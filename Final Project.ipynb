{
 "cells": [
  {
   "cell_type": "markdown",
   "id": "c11e0f94",
   "metadata": {},
   "source": [
    "# Indian Social Structure, Quality of Education, and Quality of Life"
   ]
  },
  {
   "cell_type": "markdown",
   "id": "b78e5528",
   "metadata": {},
   "source": [
    "By Ethan Talreja and Shiveen Kumar"
   ]
  },
  {
   "cell_type": "markdown",
   "id": "c5186793",
   "metadata": {},
   "source": [
    "<img src=\"https://geology.com/world/india-map.gif\" alt=\"drawing\" width=\"400\"/>"
   ]
  },
  {
   "cell_type": "markdown",
   "id": "aedbd988",
   "metadata": {},
   "source": [
    "Source: [MapsOfIndia.com](https://www.mapsofindia.com/maps/india/india-political-map.htm)"
   ]
  },
  {
   "cell_type": "markdown",
   "id": "4c0003e6",
   "metadata": {},
   "source": [
    "### Background on India"
   ]
  },
  {
   "cell_type": "markdown",
   "id": "f6e8e19d",
   "metadata": {},
   "source": [
    "India is one of the most diverse and largest countries in the world, with around 1.41 billion people (Worldometer). India boasts 28 states (and 8 union territories). The country’s diversity is noticeable once you recognize how different each region of India is. The country has 22 national languages and it is estimated that there are around 120 languages and 270 mother tongues spoken in India. \n",
    "\n",
    "While India's cultural diversity is admired by many and is a testament to the beauty of diverse cultures, India's society is not without serious faults. "
   ]
  },
  {
   "cell_type": "markdown",
   "id": "09362bd1",
   "metadata": {},
   "source": [
    "### Introducing India's caste system"
   ]
  },
  {
   "cell_type": "markdown",
   "id": "f51bc715",
   "metadata": {},
   "source": [
    "One of India’s biggest social issues is the prevalence of its caste system (link). The caste system resembles a hierarchical social pyramid which groups all members of society into a few castes. While the Indian government outlawed the caste system in 1950, the government recognizes four main groups within India’s modern social structure:\n",
    "- Scheduled Castes (SC)\n",
    "- Scheduled Tribes (ST)\n",
    "- Other Backwards Classes (OBC)\n",
    "- Forward caste / General"
   ]
  },
  {
   "cell_type": "markdown",
   "id": "a8c8b816",
   "metadata": {},
   "source": [
    "**Scheduled Castes (SC)**: Members of the Scheduled Castes are the most oppressed and marginalized caste historically. In the past, members of the group were deemed “untouchables”, or those who were not even a part of the original social structure. \n",
    "\n",
    "**Scheduled Tribes (ST)**: Those part of the Scheduled Tribes are members of society who face oppression mainly based on geographic oppression, though it is not the only defining characteristic.\n",
    "\n",
    "**Other Backwards Classes (OBC)**: All other marginalized groups in India who do not fall in this category fall within the Others Backwards Classes. The Indian government uses the term “backwards” to signify their historical oppression and their current “backwards” position in society.\n",
    "\n",
    "**Forward or General Caste**: The last group in India’s modern social structure is the Forward caste, also known as the General caste. This group consists of members who are not socially, educationally, or economically “backwards” or disadvantaged as defined by the Indian government. "
   ]
  },
  {
   "cell_type": "markdown",
   "id": "99cbb7e7",
   "metadata": {},
   "source": [
    "Within the context of these social groups or castes, we are interested in exploring two specific aspects of India’s society: quality of life and quality of education. "
   ]
  },
  {
   "cell_type": "markdown",
   "id": "dfe41e44",
   "metadata": {},
   "source": [
    "### A Quick Discussion on Quality of Life"
   ]
  },
  {
   "cell_type": "markdown",
   "id": "43133501",
   "metadata": {},
   "source": [
    "Within the lens of the social structure of India, we would like to consider the role of the existing caste system and the quality of education on the quality of life in India. \n",
    "\n",
    "As we identified different metrics we could use to measure the quality of life, we found that crude death rate or mortality rate was the best metric to use. Mortality rate is typically measured in the number of deaths per 1000 people in a given population during a given time period. In part, this comes from the availability of data from surveys by the Indian government to track mortality rates as a way to track improvements based on medical and health initiatives. But more than that, mortality rate serves as a particularly useful value to establish the quality of life.\n",
    "\n",
    "As determined in a [research study](https://bmcmedicine.biomedcentral.com/articles/10.1186/s12916-018-1024-8), mortality rate is a metric that measures the ultimate outcome: death. Most other metrics like income, house ownership, etc. are all significantly correlated to mortality rate. Of course, this does not take into account happiness, life satisfaction, or other similar metrics. Despite this, it serves as a strong metric to measure the quality of life for a certain population. "
   ]
  },
  {
   "cell_type": "markdown",
   "id": "f797c14a",
   "metadata": {},
   "source": [
    "### A Quick Discussion on Quality of Education"
   ]
  },
  {
   "cell_type": "markdown",
   "id": "0b01c72d",
   "metadata": {},
   "source": [
    "Education holistically is known to be an extremely important factor in life success. In fact, [Forbes](https://www.forbes.com/sites/lizfrazierpeck/2019/09/13/study-shows-link-between-early-education-and-future-career-success/?sh=7cfa901159bd) finds that education, and in particular, early education, is linked to future career success and life satisfaction. \n",
    "\n",
    "That being said, education is extremely complex to quantify and draw borders around. For example, watching a YouTube video on how to dribble a soccer ball is education as much as third grade math class was. \n",
    "\n",
    "To invite some clarity and focus on our definition of education, we chose to focus on elementary school education (grades 1-5). Note that elementary school is referred to as primary school in India, and will be the preferred term used in the rest of the discussion.\n",
    "\n",
    "Even with this focus, quantifying the quality of a student’s primary school education seems like a daunting task. What contributes to a high-quality education in primary school? After researching numerous metrics, we’ve identified a few important factors of quality education:\n",
    "- Qualified teachers\n",
    "- Student-teacher ratio\n",
    "- Access to educational resources\n",
    "    - Computers\n",
    "    - Electricity\n",
    "    - Classrooms in good condition\n",
    "    - Playgrounds \n",
    "\n",
    "These metrics all play a role in providing students with a quality education. \n",
    "\n",
    "While the value of qualified teachers and these educational resources are fairly intuitive, let’s outline the importance of a low student-teacher ratio. [Research](https://3zn338.a2cdn1.secureserver.net/wp-content/uploads/2011/04/California_CSR_Fatih_Unlu.pdf) suggests that low student-teacher ratio, especially in elementary or primary education, is critically important in setting a strong foundation for a student’s educational success. With fewer students, teachers are able to spend more time with each student and makes it easier for teachers to tailor material to the students in a given class. \n",
    "\n",
    "Given the role these metrics play in determining the quality of education, we will use them to measure quality of education for the purposes of this research discussion."
   ]
  },
  {
   "cell_type": "markdown",
   "id": "1aa10ac5",
   "metadata": {},
   "source": [
    "## 1. Research Goal and Question"
   ]
  },
  {
   "cell_type": "markdown",
   "id": "a4f134f1",
   "metadata": {},
   "source": [
    "Our interest lies in understanding if and how India’s current social structure impacts the quality of education and quality of life. Specifically, do members of historically marginalized castes face a different quality of education and quality of life than those part of the General caste group?\n",
    "\n",
    "Additionally, we would like to investigate if quality of education impacts the quality of life within India’s society. "
   ]
  },
  {
   "cell_type": "markdown",
   "id": "7248de84",
   "metadata": {},
   "source": [
    "**Research Question**"
   ]
  },
  {
   "cell_type": "markdown",
   "id": "12628e7f",
   "metadata": {},
   "source": [
    "Does membership in one of India’s social groups determine one’s quality of education or quality of life? Additionally, how does a student’s quality of education in India affect their quality of life?"
   ]
  },
  {
   "cell_type": "markdown",
   "id": "e2ba719d",
   "metadata": {},
   "source": [
    "**Research Goal**"
   ]
  },
  {
   "cell_type": "markdown",
   "id": "61cf63b4",
   "metadata": {},
   "source": [
    "We would like to explore how membership in one of India’s social groups impacts quality of education and quality of life in India. Do members of the marginalized castes have a worse quality of education? What about their quality of life?\n",
    "\n",
    "We are also interested in understanding how, in general, the quality of education in India relates to the overall quality of life. Does a higher quality education predict better quality of life in Indian society? \n",
    "\n",
    "As India continuously chips away at releasing the chokehold that the caste system has on its society, we hope to use our findings to shed light on if membership in one of India’s social groups still determines life outcomes. How can India improve its quality of education and quality of life for all citizens, regardless of caste status? What initiatives can India implement to support this societal growth? "
   ]
  },
  {
   "cell_type": "markdown",
   "id": "d2acd3c1",
   "metadata": {},
   "source": [
    "## 2. Dataset Description and Exploration"
   ]
  },
  {
   "cell_type": "markdown",
   "id": "383e01a5",
   "metadata": {},
   "source": [
    "To do this, we gathered 2 datasets: \n",
    "- **The Indian Ministry of Education Survey** (MOE) (2015-2016)\n",
    "- **The Indian Annual Health Survey** (AHS) (2012-2013)\n",
    "\n",
    "\n",
    "Both of these datasets gathered a variety of data from each district within most states in India. Putting the data together, we can get a powerful dataset that includes health, lifestyle, and social information from each district. \n",
    "\n",
    "The MOE dataset includes data specifically related to education in almost all districts in India. However, the AHS dataset is much more comprehensive and captures information about health, lifestyle, and demographics in a large amount of districts in India."
   ]
  },
  {
   "cell_type": "markdown",
   "id": "f78a3b09",
   "metadata": {},
   "source": [
    "Let's now dive deeper into each dataset."
   ]
  },
  {
   "cell_type": "markdown",
   "id": "7967afe6",
   "metadata": {},
   "source": [
    "**2012-2013 AHS Survey**"
   ]
  },
  {
   "cell_type": "markdown",
   "id": "3368abfc",
   "metadata": {},
   "source": [
    "The [Annual Health Survey](https://main.mohfw.gov.in/documents/Statistics) is a survey that India conceived in 2005 to capture a holistic view of India on a yearly basis. Unfortunately, due to bureaucratic issues, the survey was discontinued in 2013 by the Health Ministry. That makes this dataset the last dataset created by the Indian government.\n",
    "\n",
    "The dataset includes information from 4.32 million households spread across both rural and urban areas of 9 states within India. It collected data on 26 key health indicators, including household characteristics, sex ratio, marriage, work status, acute illness, and chronic illness. "
   ]
  },
  {
   "cell_type": "markdown",
   "id": "3ae10aad",
   "metadata": {},
   "source": [
    "Because this survey is conducted by India's national government, the data collection process is thorough and all values are double-checked for accuracy. Therefore, there are no missing values and the government claims that all data values have been reviewed for accuracy and completeness. \n",
    "\n",
    "Data is collected through different means including government representatives who collect information at a local level. However, there is not much specific information about how the survey data is collected."
   ]
  },
  {
   "cell_type": "markdown",
   "id": "8cae467b",
   "metadata": {},
   "source": [
    "In this dataset, each indicates data about a specific district in India. Each column in this dataset indicates an identifying feature of the district or 1 of 26 key indicators. \n",
    "\n",
    "For example, one feature of this dataset is: 'JJ_Persons_Suffering_From_Acute_Illness_Per_100000_Population_Any_Type_Of_Acute_Illness_Person_Total'. \n",
    "\n",
    "This feature shows the number of people per 100,000 individuals who suffer from any type of acute illness in that district. A value of 4064 would indicate that 4064 people per 100,000 individuals (~4%) in that district have an acute illness."
   ]
  },
  {
   "cell_type": "markdown",
   "id": "600a02d3",
   "metadata": {},
   "source": [
    "We acquired this dataset through India's Ministry of Health website which requires an account to access. Once we created an account, we were granted access to the data."
   ]
  },
  {
   "cell_type": "markdown",
   "id": "0f5536d3",
   "metadata": {},
   "source": [
    "**2015-2016 MOE Survey**"
   ]
  },
  {
   "cell_type": "markdown",
   "id": "4010d466",
   "metadata": {},
   "source": [
    "This survey is conducted by India's Ministry of Education to assess India's current education status. It collects data on students, teachers, schools, educational resources, and more to do this. This dataset in particular is from India's 2015-2016 data collection period. \n",
    "\n",
    "This dataset includes data from roughly 129,122,784 primary school students and 2,606,120 primary school teachers. The survey also reports values for different castes. For example, the dataset provides information on the number of T, SC, and OBC students enrolled in schools. It also includes information like the qualification of teachers, the school's access to resources like computers and electricities, and the number of classrooms at a district level."
   ]
  },
  {
   "cell_type": "markdown",
   "id": "04f3f6c9",
   "metadata": {},
   "source": [
    "This survey is also conducted by India's national government which guarantees the validity and accuracy of its data. The data collection process includes local and regional government representatives reaching out to schools to gather information, collect data through school reports, and work with the community to aggregate data on a district level."
   ]
  },
  {
   "cell_type": "markdown",
   "id": "dee7398a",
   "metadata": {},
   "source": [
    "Each row in this dataset includes data for a specific district. Each column indicates a specific feature of the dataset.\n",
    "\n",
    "For example, the first row in the dataset provides information for the district of Uttarkashi, which is located in the state of Uttarakhand. Columns include the number of students enrolled in each grade in that district, the number of schools, number of teachers, schools with access to electricity, etc."
   ]
  },
  {
   "cell_type": "markdown",
   "id": "b1b42f7c",
   "metadata": {},
   "source": [
    "We gained access to this dataset on [Kaggle](https://www.kaggle.com/datasets/rajanand/education-in-india)."
   ]
  },
  {
   "cell_type": "markdown",
   "id": "016daddd",
   "metadata": {},
   "source": [
    "****Limitations****"
   ]
  },
  {
   "cell_type": "markdown",
   "id": "27362ba3",
   "metadata": {},
   "source": [
    "Unfortunately, due to the limited availability of survey data, we could only access the 2015-2016 MOE survey and the 2012-2013 AHS survey (since it was discontinued). We know this introduces the issue that some of our data is from the year 2012/2013, while the rest is from a few years later. We will consider this as we do our analysis and begin to make conclusions. However, from our research, we did not identify any major incidents or changes in Indian society that would cause issues with merging data from both datasets into one."
   ]
  },
  {
   "cell_type": "markdown",
   "id": "b974d050",
   "metadata": {},
   "source": [
    "Another limitation is that the MOE dataset collected data on 36 Indian districts/territories, while the AHS dataset only includes data on 9 states. When we combine the dataset, we will only keep data found in districts represented in both datasets. Therefore, we will only be able to assess the data from 9 states. "
   ]
  },
  {
   "cell_type": "markdown",
   "id": "b3ce5e60",
   "metadata": {},
   "source": [
    "We are not confident that there are many limitations related to faulty data collection. We see no NaN values and as mentioned before, because these surveys were conducted by and audited by India's national government, data integrity and validity should not be an issue."
   ]
  },
  {
   "cell_type": "markdown",
   "id": "d57bb8d0",
   "metadata": {},
   "source": [
    "We are also not convinced that this data was collected unethically or that the data represented in these datasets are unethical. After reviewing the data collection process for both datasets and exploring each dataset, we found no unethical or biased conclusions or data collection processes. While the exact auditing process conducted by the national government was not outlined, we are confident that India's government carefully audited all data presented in both datasets. Of course, this does not mean that no data values are biased or that none of the data collection processes were unethical. "
   ]
  },
  {
   "cell_type": "markdown",
   "id": "6ad01af1",
   "metadata": {},
   "source": [
    "As we interpret the results of analyses performed in this discussion and make conclusions, we will continue to keep these limitations in mind. While we hope to find some exciting things in our analyses, we will ensure to frame all results within the bounds set by these limitations and resist the urge to extend findings past these boundaries."
   ]
  },
  {
   "cell_type": "markdown",
   "id": "d846dec1",
   "metadata": {},
   "source": [
    "**Other Considerations**"
   ]
  },
  {
   "cell_type": "markdown",
   "id": "aac10993",
   "metadata": {},
   "source": [
    "We would like to mention that we are storing both datasets on GitHub, used for collaboration and version controlling. Also, data from these datasets will be presented in this report, which will be accessible to a few faculty members and teaching assistants part of the course's teaching staff, all of whom are part of Cornell University. "
   ]
  },
  {
   "cell_type": "markdown",
   "id": "5715b2ab",
   "metadata": {},
   "source": [
    "## 3. Preregistered Statements"
   ]
  },
  {
   "cell_type": "markdown",
   "id": "6aa2385c",
   "metadata": {},
   "source": [
    "Based on the information we have about our research goal and the data we have access to in our datasets, we have some hypotheses we are excited to explore more below:"
   ]
  },
  {
   "cell_type": "markdown",
   "id": "0edfa624",
   "metadata": {},
   "source": [
    "**Hypothesis 1**: Membership in one of India's marginalized caste groups predicts mortality rate.\n",
    "\n",
    "The reason why this hypothesis is particularly interesting is because we want to see if there is a relationship between the percentage of students from underprivileged castes (SC, ST, and OBC) and quality of life (determined by mortality rate). "
   ]
  },
  {
   "cell_type": "markdown",
   "id": "7ebad46b",
   "metadata": {},
   "source": [
    "**Hypothesis 2**: Membership in one of India's marginalized caste groups predicts access to educational resources, qualified teachers, and student-teacher ratio.\n",
    "\n",
    "We would like to identify if the amount of non-General caste students in a district predicts access to educational resources (like computers, electricity, playgrouds, and classrooms in good condition), qualified teachers, and student-teacher ratios. "
   ]
  },
  {
   "cell_type": "markdown",
   "id": "15b9776c",
   "metadata": {},
   "source": [
    "**Hypothesis 3**: Quality of education in India (determined by access to good education resources, student-teacher ratio, and qualified teachers) predicts mortality rate.\n",
    "\n",
    "We are interested in this hypothesis / statement because we want to explore whether access to these resources are related to a higher quality of life regardless of social group. Really, we're asking: does quality of education in India predict quality of life?"
   ]
  },
  {
   "cell_type": "markdown",
   "id": "9b9d2f53",
   "metadata": {},
   "source": [
    "## 4. Set Up: Importing Libraries and Data"
   ]
  },
  {
   "cell_type": "markdown",
   "id": "8c2035ab",
   "metadata": {},
   "source": [
    "**Import Libraries**"
   ]
  },
  {
   "cell_type": "code",
   "execution_count": 833,
   "id": "b9a2f2f3",
   "metadata": {},
   "outputs": [],
   "source": [
    "import pandas as pd # to create and interact with dataframes\n",
    "import matplotlib.pyplot as plt # to visualize data\n",
    "import seaborn as sns # to visualize data\n",
    "from datetime import datetime # to calculate how long merging dfs took\n",
    "import numpy as np # for correlations\n",
    "import statsmodels.api as sm # for correlations\n",
    "import string # to use capwords function\n",
    "import geopandas as gpd # to create map of India\n",
    "import warnings # to get rid of inevitable warning"
   ]
  },
  {
   "cell_type": "markdown",
   "id": "374d9124",
   "metadata": {},
   "source": [
    "**Importing Data**"
   ]
  },
  {
   "cell_type": "markdown",
   "id": "2f7bf562",
   "metadata": {},
   "source": [
    "Importing two CSV files."
   ]
  },
  {
   "cell_type": "code",
   "execution_count": 834,
   "id": "c7ea3d5d",
   "metadata": {},
   "outputs": [],
   "source": [
    "# importing Ministry of Education (MOE) data\n",
    "moe_df = pd.read_csv('moe.csv')"
   ]
  },
  {
   "cell_type": "code",
   "execution_count": 835,
   "id": "dfb7c393",
   "metadata": {},
   "outputs": [],
   "source": [
    "# importing Annual Health Survey (AHS) data\n",
    "ahs_df = pd.read_csv('ahs.csv')"
   ]
  },
  {
   "cell_type": "markdown",
   "id": "9972d69e",
   "metadata": {},
   "source": [
    "Next, we can move onto the data cleaning process, where we clean up the dataframes and combine them to create a final working version that we will analyze."
   ]
  },
  {
   "cell_type": "markdown",
   "id": "184d1988",
   "metadata": {},
   "source": [
    "**Remove all warning**"
   ]
  },
  {
   "cell_type": "code",
   "execution_count": 836,
   "id": "39e36cec",
   "metadata": {},
   "outputs": [],
   "source": [
    "warnings.filterwarnings('ignore')"
   ]
  },
  {
   "cell_type": "markdown",
   "id": "21e56625",
   "metadata": {},
   "source": [
    "## 5. Data Cleaning"
   ]
  },
  {
   "cell_type": "markdown",
   "id": "ea85a2b1",
   "metadata": {},
   "source": [
    "We can first start by cleaning moe_df."
   ]
  },
  {
   "cell_type": "markdown",
   "id": "3563d289",
   "metadata": {},
   "source": [
    "### Cleaning moe_df"
   ]
  },
  {
   "cell_type": "code",
   "execution_count": 837,
   "id": "849c93aa",
   "metadata": {
    "scrolled": false
   },
   "outputs": [
    {
     "data": {
      "text/html": [
       "<div>\n",
       "<style scoped>\n",
       "    .dataframe tbody tr th:only-of-type {\n",
       "        vertical-align: middle;\n",
       "    }\n",
       "\n",
       "    .dataframe tbody tr th {\n",
       "        vertical-align: top;\n",
       "    }\n",
       "\n",
       "    .dataframe thead th {\n",
       "        text-align: right;\n",
       "    }\n",
       "</style>\n",
       "<table border=\"1\" class=\"dataframe\">\n",
       "  <thead>\n",
       "    <tr style=\"text-align: right;\">\n",
       "      <th></th>\n",
       "      <th>AC_YEAR</th>\n",
       "      <th>STATCD</th>\n",
       "      <th>DISTCD</th>\n",
       "      <th>STATNAME</th>\n",
       "      <th>DISTNAME</th>\n",
       "      <th>DISTRICTS</th>\n",
       "      <th>BLOCKS</th>\n",
       "      <th>VILLAGES</th>\n",
       "      <th>CLUSTERS</th>\n",
       "      <th>TOTPOPULAT</th>\n",
       "      <th>...</th>\n",
       "      <th>UUNI_ALL</th>\n",
       "      <th>UUNI_SC</th>\n",
       "      <th>UUNI_ST</th>\n",
       "      <th>TOTCLS1G</th>\n",
       "      <th>TOTCLS2G</th>\n",
       "      <th>TOTCLS3G</th>\n",
       "      <th>TOTCLS4G</th>\n",
       "      <th>TOTCLS5G</th>\n",
       "      <th>TOTCLS6G</th>\n",
       "      <th>TOTCLS7G</th>\n",
       "    </tr>\n",
       "  </thead>\n",
       "  <tbody>\n",
       "    <tr>\n",
       "      <th>0</th>\n",
       "      <td>2015-16</td>\n",
       "      <td>1</td>\n",
       "      <td>101</td>\n",
       "      <td>JAMMU &amp; KASHMIR</td>\n",
       "      <td>KUPWARA</td>\n",
       "      <td>1</td>\n",
       "      <td>13</td>\n",
       "      <td>391</td>\n",
       "      <td>104</td>\n",
       "      <td>875564.0</td>\n",
       "      <td>...</td>\n",
       "      <td>21322</td>\n",
       "      <td>26</td>\n",
       "      <td>2594</td>\n",
       "      <td>3489</td>\n",
       "      <td>5315</td>\n",
       "      <td>27</td>\n",
       "      <td>62</td>\n",
       "      <td>23</td>\n",
       "      <td>852</td>\n",
       "      <td>239</td>\n",
       "    </tr>\n",
       "    <tr>\n",
       "      <th>1</th>\n",
       "      <td>2015-16</td>\n",
       "      <td>1</td>\n",
       "      <td>102</td>\n",
       "      <td>JAMMU &amp; KASHMIR</td>\n",
       "      <td>BARAMULA</td>\n",
       "      <td>1</td>\n",
       "      <td>18</td>\n",
       "      <td>678</td>\n",
       "      <td>144</td>\n",
       "      <td>1015503.0</td>\n",
       "      <td>...</td>\n",
       "      <td>17307</td>\n",
       "      <td>0</td>\n",
       "      <td>1571</td>\n",
       "      <td>4127</td>\n",
       "      <td>5800</td>\n",
       "      <td>210</td>\n",
       "      <td>53</td>\n",
       "      <td>30</td>\n",
       "      <td>1665</td>\n",
       "      <td>360</td>\n",
       "    </tr>\n",
       "    <tr>\n",
       "      <th>2</th>\n",
       "      <td>2015-16</td>\n",
       "      <td>1</td>\n",
       "      <td>103</td>\n",
       "      <td>JAMMU &amp; KASHMIR</td>\n",
       "      <td>SRINAGAR</td>\n",
       "      <td>1</td>\n",
       "      <td>8</td>\n",
       "      <td>94</td>\n",
       "      <td>65</td>\n",
       "      <td>1269751.0</td>\n",
       "      <td>...</td>\n",
       "      <td>5444</td>\n",
       "      <td>31</td>\n",
       "      <td>408</td>\n",
       "      <td>817</td>\n",
       "      <td>3284</td>\n",
       "      <td>886</td>\n",
       "      <td>11</td>\n",
       "      <td>0</td>\n",
       "      <td>2873</td>\n",
       "      <td>40</td>\n",
       "    </tr>\n",
       "    <tr>\n",
       "      <th>3</th>\n",
       "      <td>2015-16</td>\n",
       "      <td>1</td>\n",
       "      <td>104</td>\n",
       "      <td>JAMMU &amp; KASHMIR</td>\n",
       "      <td>BADGAM</td>\n",
       "      <td>1</td>\n",
       "      <td>13</td>\n",
       "      <td>523</td>\n",
       "      <td>104</td>\n",
       "      <td>735753.0</td>\n",
       "      <td>...</td>\n",
       "      <td>12469</td>\n",
       "      <td>18</td>\n",
       "      <td>857</td>\n",
       "      <td>2290</td>\n",
       "      <td>3837</td>\n",
       "      <td>119</td>\n",
       "      <td>45</td>\n",
       "      <td>8</td>\n",
       "      <td>1035</td>\n",
       "      <td>325</td>\n",
       "    </tr>\n",
       "    <tr>\n",
       "      <th>4</th>\n",
       "      <td>2015-16</td>\n",
       "      <td>1</td>\n",
       "      <td>105</td>\n",
       "      <td>JAMMU &amp; KASHMIR</td>\n",
       "      <td>PULWAMA</td>\n",
       "      <td>1</td>\n",
       "      <td>8</td>\n",
       "      <td>359</td>\n",
       "      <td>64</td>\n",
       "      <td>570060.0</td>\n",
       "      <td>...</td>\n",
       "      <td>7408</td>\n",
       "      <td>17</td>\n",
       "      <td>855</td>\n",
       "      <td>1688</td>\n",
       "      <td>2584</td>\n",
       "      <td>151</td>\n",
       "      <td>67</td>\n",
       "      <td>5</td>\n",
       "      <td>1101</td>\n",
       "      <td>209</td>\n",
       "    </tr>\n",
       "  </tbody>\n",
       "</table>\n",
       "<p>5 rows × 819 columns</p>\n",
       "</div>"
      ],
      "text/plain": [
       "   AC_YEAR  STATCD  DISTCD         STATNAME  DISTNAME  DISTRICTS  BLOCKS  \\\n",
       "0  2015-16       1     101  JAMMU & KASHMIR   KUPWARA          1      13   \n",
       "1  2015-16       1     102  JAMMU & KASHMIR  BARAMULA          1      18   \n",
       "2  2015-16       1     103  JAMMU & KASHMIR  SRINAGAR          1       8   \n",
       "3  2015-16       1     104  JAMMU & KASHMIR    BADGAM          1      13   \n",
       "4  2015-16       1     105  JAMMU & KASHMIR   PULWAMA          1       8   \n",
       "\n",
       "   VILLAGES  CLUSTERS  TOTPOPULAT  ...  UUNI_ALL  UUNI_SC  UUNI_ST  TOTCLS1G  \\\n",
       "0       391       104    875564.0  ...     21322       26     2594      3489   \n",
       "1       678       144   1015503.0  ...     17307        0     1571      4127   \n",
       "2        94        65   1269751.0  ...      5444       31      408       817   \n",
       "3       523       104    735753.0  ...     12469       18      857      2290   \n",
       "4       359        64    570060.0  ...      7408       17      855      1688   \n",
       "\n",
       "   TOTCLS2G  TOTCLS3G  TOTCLS4G  TOTCLS5G  TOTCLS6G  TOTCLS7G  \n",
       "0      5315        27        62        23       852       239  \n",
       "1      5800       210        53        30      1665       360  \n",
       "2      3284       886        11         0      2873        40  \n",
       "3      3837       119        45         8      1035       325  \n",
       "4      2584       151        67         5      1101       209  \n",
       "\n",
       "[5 rows x 819 columns]"
      ]
     },
     "execution_count": 837,
     "metadata": {},
     "output_type": "execute_result"
    }
   ],
   "source": [
    "# displaying the head of moe_df\n",
    "moe_df.head()"
   ]
  },
  {
   "cell_type": "markdown",
   "id": "3c9ee0d8",
   "metadata": {},
   "source": [
    "Quickly, we notice that the dataframe as a lot of columns (819 to be specific). This means it is especially important that we identify the columns that we need and get rid of the rest.\n",
    "\n",
    "To do this, we can create a dictionary where the keys are the columns that we want to keep and the values are the name we want to assign to the corresponding column.  "
   ]
  },
  {
   "cell_type": "markdown",
   "id": "bfd4e77a",
   "metadata": {},
   "source": [
    "**Filtering columns**"
   ]
  },
  {
   "cell_type": "markdown",
   "id": "bddef7c7",
   "metadata": {},
   "source": [
    "What columns are we keeping? Since we're interested in education quality for primary students (grades 1-5), we focus on columns whose values related to primary students. We keep columns related to the following:\n",
    "- state name\n",
    "- district name\n",
    "- amount of primary students by caste (ST, SC, and OBC)\n",
    "- student-teacher ratio\n",
    "- amount of teachers\n",
    "- teacher qualification\n",
    "- access to computers, electricity, and playground"
   ]
  },
  {
   "cell_type": "code",
   "execution_count": 838,
   "id": "88974e47",
   "metadata": {},
   "outputs": [],
   "source": [
    "# list of columns in moe_df we need\n",
    "moe_cols = {'STATNAME':'State', 'DISTNAME':'District',\n",
    "            'SCPTOT':'SC Students', 'STPTOT':'ST Students', 'OBPTOT':'OBC Students',\n",
    "            'CLS1':'Primary Classrooms','SCH1':'Primary Schools','TCH1':'Primary Teachers','PPTR30':'STR over 30', \n",
    "            'TCHBS1':'Teacher Qualification Below Secondary','TCHSEC1':'Teacher Qualification Secondary',\n",
    "            'TCHHS1':'Teacher Qualification Higher Secondary','TCHGD1':'Teacher Qualification Graduate', \n",
    "            'TCHPG1':'Teacher Qualifcation Post Grad','TCHMD1': 'Teacher Qualification PHD',\n",
    "            'TCHPD1':'Teacher Qualification Post Doctorate','TCHNR1':'Teacher Qualification Undetermined',\n",
    "            'C1_B':'Grade 1 Boys','C2_B':'Grade 2 Boys', 'C3_B':'Grade 3 Boys','C4_B':'Grade 4 Boys',\n",
    "            'C5_B':'Grade 5 Boys','C1_G':'Grade 1 Girls','C2_G':'Grade 2 Girls', 'C3_G':'Grade 3 Girls',\n",
    "            'C4_G':'Grade 4 Girls', 'C5_G':'Grade 5 Girls','SPLAY1':'Playground Access',\n",
    "            'SELE1': 'Electricity Access', 'SCOMP1': 'Computer Access', 'TOTCLGD1G':'Classrooms Good Condition',\n",
    "           'TOTCLMI1G': 'Classrooms Minor Repair', 'TOTCLMJ1G': 'Classrooms Major Repair'}"
   ]
  },
  {
   "cell_type": "code",
   "execution_count": 839,
   "id": "2c79f55d",
   "metadata": {},
   "outputs": [],
   "source": [
    "# getting rid of columns in moe_df that we don't need\n",
    "moe_df = moe_df[moe_cols]"
   ]
  },
  {
   "cell_type": "code",
   "execution_count": 840,
   "id": "538326db",
   "metadata": {},
   "outputs": [],
   "source": [
    "# renaming columns\n",
    "moe_df = moe_df.rename(columns=moe_cols)"
   ]
  },
  {
   "cell_type": "markdown",
   "id": "02d58310",
   "metadata": {},
   "source": [
    "Next, we can make sure all values are the right object types and make any necessary adjustments. "
   ]
  },
  {
   "cell_type": "markdown",
   "id": "85cfac8c",
   "metadata": {},
   "source": [
    "**Checking types**"
   ]
  },
  {
   "cell_type": "code",
   "execution_count": 841,
   "id": "03ba8c31",
   "metadata": {
    "scrolled": false
   },
   "outputs": [
    {
     "data": {
      "text/plain": [
       "State                                     object\n",
       "District                                  object\n",
       "SC Students                                int64\n",
       "ST Students                                int64\n",
       "OBC Students                               int64\n",
       "Primary Classrooms                         int64\n",
       "Primary Schools                            int64\n",
       "Primary Teachers                           int64\n",
       "STR over 30                                int64\n",
       "Teacher Qualification Below Secondary      int64\n",
       "Teacher Qualification Secondary            int64\n",
       "Teacher Qualification Higher Secondary     int64\n",
       "Teacher Qualification Graduate             int64\n",
       "Teacher Qualifcation Post Grad             int64\n",
       "Teacher Qualification PHD                  int64\n",
       "Teacher Qualification Post Doctorate       int64\n",
       "Teacher Qualification Undetermined         int64\n",
       "Grade 1 Boys                               int64\n",
       "Grade 2 Boys                               int64\n",
       "Grade 3 Boys                               int64\n",
       "Grade 4 Boys                               int64\n",
       "Grade 5 Boys                               int64\n",
       "Grade 1 Girls                              int64\n",
       "Grade 2 Girls                              int64\n",
       "Grade 3 Girls                              int64\n",
       "Grade 4 Girls                              int64\n",
       "Grade 5 Girls                              int64\n",
       "Playground Access                          int64\n",
       "Electricity Access                         int64\n",
       "Computer Access                            int64\n",
       "Classrooms Good Condition                  int64\n",
       "Classrooms Minor Repair                    int64\n",
       "Classrooms Major Repair                    int64\n",
       "dtype: object"
      ]
     },
     "execution_count": 841,
     "metadata": {},
     "output_type": "execute_result"
    }
   ],
   "source": [
    "# identifying types\n",
    "moe_df.dtypes"
   ]
  },
  {
   "cell_type": "markdown",
   "id": "bf2976c1",
   "metadata": {},
   "source": [
    "The list above is as expected. The state and district names are object types because they are strings. The other columns represent numbers, so we are perfectly happy with int64 types."
   ]
  },
  {
   "cell_type": "markdown",
   "id": "f4878d81",
   "metadata": {},
   "source": [
    "**Capitalize state and district names**"
   ]
  },
  {
   "cell_type": "markdown",
   "id": "12ef3b7c",
   "metadata": {},
   "source": [
    "We need to modify the state and district names to follow a \"Bbbb\" or capitalized format. Since some districts or state names have multiple words, we use the string library's capwords function to modify all strings into this format. "
   ]
  },
  {
   "cell_type": "code",
   "execution_count": 842,
   "id": "f1c119b7",
   "metadata": {},
   "outputs": [],
   "source": [
    "# adjusting 'state' and 'district' columns to a capitalized format\n",
    "moe_df['State'] = moe_df['State'].apply(lambda x: string.capwords(x))\n",
    "moe_df['District'] = moe_df['District'].apply(lambda x: string.capwords(x))"
   ]
  },
  {
   "cell_type": "markdown",
   "id": "305e56db",
   "metadata": {},
   "source": [
    "**Manually change Balrampur's state**"
   ]
  },
  {
   "cell_type": "markdown",
   "id": "d524833f",
   "metadata": {},
   "source": [
    "Next, the survey misclassifies the district Balrampur to be within the state Chhattisgarh, instead of in Uttar Pradesh. We will manually fix this to avoid issues later on when we merge the two dataframes."
   ]
  },
  {
   "cell_type": "code",
   "execution_count": 843,
   "id": "7f6536e0",
   "metadata": {},
   "outputs": [],
   "source": [
    "# manually changing Balrampur's state to Uttar Pradesh\n",
    "moe_df.loc[moe_df['District'] == 'Balrampur', 'State'] = 'Uttar Pradesh'"
   ]
  },
  {
   "cell_type": "markdown",
   "id": "bfd6797f",
   "metadata": {},
   "source": [
    "At this point, moe_df is ready to go! Here is the final version of moe_df:"
   ]
  },
  {
   "cell_type": "code",
   "execution_count": 844,
   "id": "b93fb029",
   "metadata": {
    "scrolled": false
   },
   "outputs": [
    {
     "data": {
      "text/html": [
       "<div>\n",
       "<style scoped>\n",
       "    .dataframe tbody tr th:only-of-type {\n",
       "        vertical-align: middle;\n",
       "    }\n",
       "\n",
       "    .dataframe tbody tr th {\n",
       "        vertical-align: top;\n",
       "    }\n",
       "\n",
       "    .dataframe thead th {\n",
       "        text-align: right;\n",
       "    }\n",
       "</style>\n",
       "<table border=\"1\" class=\"dataframe\">\n",
       "  <thead>\n",
       "    <tr style=\"text-align: right;\">\n",
       "      <th></th>\n",
       "      <th>State</th>\n",
       "      <th>District</th>\n",
       "      <th>SC Students</th>\n",
       "      <th>ST Students</th>\n",
       "      <th>OBC Students</th>\n",
       "      <th>Primary Classrooms</th>\n",
       "      <th>Primary Schools</th>\n",
       "      <th>Primary Teachers</th>\n",
       "      <th>STR over 30</th>\n",
       "      <th>Teacher Qualification Below Secondary</th>\n",
       "      <th>...</th>\n",
       "      <th>Grade 2 Girls</th>\n",
       "      <th>Grade 3 Girls</th>\n",
       "      <th>Grade 4 Girls</th>\n",
       "      <th>Grade 5 Girls</th>\n",
       "      <th>Playground Access</th>\n",
       "      <th>Electricity Access</th>\n",
       "      <th>Computer Access</th>\n",
       "      <th>Classrooms Good Condition</th>\n",
       "      <th>Classrooms Minor Repair</th>\n",
       "      <th>Classrooms Major Repair</th>\n",
       "    </tr>\n",
       "  </thead>\n",
       "  <tbody>\n",
       "    <tr>\n",
       "      <th>0</th>\n",
       "      <td>Jammu &amp; Kashmir</td>\n",
       "      <td>Kupwara</td>\n",
       "      <td>0</td>\n",
       "      <td>10161</td>\n",
       "      <td>6983</td>\n",
       "      <td>3489</td>\n",
       "      <td>1107</td>\n",
       "      <td>2708</td>\n",
       "      <td>86</td>\n",
       "      <td>0</td>\n",
       "      <td>...</td>\n",
       "      <td>8615</td>\n",
       "      <td>8274</td>\n",
       "      <td>8190</td>\n",
       "      <td>7692</td>\n",
       "      <td>105</td>\n",
       "      <td>44</td>\n",
       "      <td>23</td>\n",
       "      <td>2413</td>\n",
       "      <td>877</td>\n",
       "      <td>199</td>\n",
       "    </tr>\n",
       "    <tr>\n",
       "      <th>1</th>\n",
       "      <td>Jammu &amp; Kashmir</td>\n",
       "      <td>Baramula</td>\n",
       "      <td>0</td>\n",
       "      <td>5312</td>\n",
       "      <td>25171</td>\n",
       "      <td>4127</td>\n",
       "      <td>1215</td>\n",
       "      <td>2937</td>\n",
       "      <td>122</td>\n",
       "      <td>0</td>\n",
       "      <td>...</td>\n",
       "      <td>10710</td>\n",
       "      <td>10676</td>\n",
       "      <td>10450</td>\n",
       "      <td>10094</td>\n",
       "      <td>211</td>\n",
       "      <td>278</td>\n",
       "      <td>24</td>\n",
       "      <td>2757</td>\n",
       "      <td>970</td>\n",
       "      <td>400</td>\n",
       "    </tr>\n",
       "    <tr>\n",
       "      <th>2</th>\n",
       "      <td>Jammu &amp; Kashmir</td>\n",
       "      <td>Srinagar</td>\n",
       "      <td>175</td>\n",
       "      <td>1282</td>\n",
       "      <td>1592</td>\n",
       "      <td>817</td>\n",
       "      <td>258</td>\n",
       "      <td>828</td>\n",
       "      <td>14</td>\n",
       "      <td>0</td>\n",
       "      <td>...</td>\n",
       "      <td>7591</td>\n",
       "      <td>7375</td>\n",
       "      <td>7324</td>\n",
       "      <td>7167</td>\n",
       "      <td>78</td>\n",
       "      <td>96</td>\n",
       "      <td>38</td>\n",
       "      <td>741</td>\n",
       "      <td>76</td>\n",
       "      <td>0</td>\n",
       "    </tr>\n",
       "    <tr>\n",
       "      <th>3</th>\n",
       "      <td>Jammu &amp; Kashmir</td>\n",
       "      <td>Badgam</td>\n",
       "      <td>0</td>\n",
       "      <td>3238</td>\n",
       "      <td>14230</td>\n",
       "      <td>2290</td>\n",
       "      <td>755</td>\n",
       "      <td>1878</td>\n",
       "      <td>41</td>\n",
       "      <td>0</td>\n",
       "      <td>...</td>\n",
       "      <td>6359</td>\n",
       "      <td>6160</td>\n",
       "      <td>6019</td>\n",
       "      <td>5595</td>\n",
       "      <td>129</td>\n",
       "      <td>70</td>\n",
       "      <td>19</td>\n",
       "      <td>1680</td>\n",
       "      <td>416</td>\n",
       "      <td>194</td>\n",
       "    </tr>\n",
       "    <tr>\n",
       "      <th>4</th>\n",
       "      <td>Jammu &amp; Kashmir</td>\n",
       "      <td>Pulwama</td>\n",
       "      <td>19</td>\n",
       "      <td>3571</td>\n",
       "      <td>6462</td>\n",
       "      <td>1688</td>\n",
       "      <td>532</td>\n",
       "      <td>1336</td>\n",
       "      <td>15</td>\n",
       "      <td>0</td>\n",
       "      <td>...</td>\n",
       "      <td>3927</td>\n",
       "      <td>3717</td>\n",
       "      <td>3782</td>\n",
       "      <td>3744</td>\n",
       "      <td>93</td>\n",
       "      <td>29</td>\n",
       "      <td>18</td>\n",
       "      <td>1149</td>\n",
       "      <td>378</td>\n",
       "      <td>161</td>\n",
       "    </tr>\n",
       "  </tbody>\n",
       "</table>\n",
       "<p>5 rows × 33 columns</p>\n",
       "</div>"
      ],
      "text/plain": [
       "             State  District  SC Students  ST Students  OBC Students  \\\n",
       "0  Jammu & Kashmir   Kupwara            0        10161          6983   \n",
       "1  Jammu & Kashmir  Baramula            0         5312         25171   \n",
       "2  Jammu & Kashmir  Srinagar          175         1282          1592   \n",
       "3  Jammu & Kashmir    Badgam            0         3238         14230   \n",
       "4  Jammu & Kashmir   Pulwama           19         3571          6462   \n",
       "\n",
       "   Primary Classrooms  Primary Schools  Primary Teachers  STR over 30  \\\n",
       "0                3489             1107              2708           86   \n",
       "1                4127             1215              2937          122   \n",
       "2                 817              258               828           14   \n",
       "3                2290              755              1878           41   \n",
       "4                1688              532              1336           15   \n",
       "\n",
       "   Teacher Qualification Below Secondary  ...  Grade 2 Girls  Grade 3 Girls  \\\n",
       "0                                      0  ...           8615           8274   \n",
       "1                                      0  ...          10710          10676   \n",
       "2                                      0  ...           7591           7375   \n",
       "3                                      0  ...           6359           6160   \n",
       "4                                      0  ...           3927           3717   \n",
       "\n",
       "   Grade 4 Girls  Grade 5 Girls  Playground Access  Electricity Access  \\\n",
       "0           8190           7692                105                  44   \n",
       "1          10450          10094                211                 278   \n",
       "2           7324           7167                 78                  96   \n",
       "3           6019           5595                129                  70   \n",
       "4           3782           3744                 93                  29   \n",
       "\n",
       "   Computer Access  Classrooms Good Condition  Classrooms Minor Repair  \\\n",
       "0               23                       2413                      877   \n",
       "1               24                       2757                      970   \n",
       "2               38                        741                       76   \n",
       "3               19                       1680                      416   \n",
       "4               18                       1149                      378   \n",
       "\n",
       "   Classrooms Major Repair  \n",
       "0                      199  \n",
       "1                      400  \n",
       "2                        0  \n",
       "3                      194  \n",
       "4                      161  \n",
       "\n",
       "[5 rows x 33 columns]"
      ]
     },
     "execution_count": 844,
     "metadata": {},
     "output_type": "execute_result"
    }
   ],
   "source": [
    "# displaying the head of the new dataframe\n",
    "moe_df.head()"
   ]
  },
  {
   "cell_type": "markdown",
   "id": "4e587f0d",
   "metadata": {},
   "source": [
    "### Cleaning ahs_df"
   ]
  },
  {
   "cell_type": "markdown",
   "id": "0c446e32",
   "metadata": {},
   "source": [
    "As we did with the first dataframe, let's display the first 5 rows of ahs_df to see what needs to be done to make analysis as easy as possible."
   ]
  },
  {
   "cell_type": "code",
   "execution_count": 845,
   "id": "3f625ac8",
   "metadata": {
    "scrolled": true
   },
   "outputs": [
    {
     "data": {
      "text/html": [
       "<div>\n",
       "<style scoped>\n",
       "    .dataframe tbody tr th:only-of-type {\n",
       "        vertical-align: middle;\n",
       "    }\n",
       "\n",
       "    .dataframe tbody tr th {\n",
       "        vertical-align: top;\n",
       "    }\n",
       "\n",
       "    .dataframe thead th {\n",
       "        text-align: right;\n",
       "    }\n",
       "</style>\n",
       "<table border=\"1\" class=\"dataframe\">\n",
       "  <thead>\n",
       "    <tr style=\"text-align: right;\">\n",
       "      <th></th>\n",
       "      <th>State_Name</th>\n",
       "      <th>State_District_Name</th>\n",
       "      <th>AA_Sample_Units_Total</th>\n",
       "      <th>AA_Sample_Units_Rural</th>\n",
       "      <th>AA_Sample_Units_Urban</th>\n",
       "      <th>AA_Households_Total</th>\n",
       "      <th>AA_Households_Rural</th>\n",
       "      <th>AA_Households_Urban</th>\n",
       "      <th>AA_Population_Total</th>\n",
       "      <th>AA_Population_Rural</th>\n",
       "      <th>...</th>\n",
       "      <th>ZZ_Under_Five_Mortality_Rate_U5MR_Rural_Lower_Limit</th>\n",
       "      <th>ZZ_Under_Five_Mortality_Rate_U5MR_Rural_Upper_Limit</th>\n",
       "      <th>ZZ_Under_Five_Mortality_Rate_U5MR_Urban_Lower_Limit</th>\n",
       "      <th>ZZ_Under_Five_Mortality_Rate_U5MR_Urban_Upper_Limit</th>\n",
       "      <th>ZZ_Sex_Ratio_At_Birth_Total_Lower_Limit</th>\n",
       "      <th>ZZ_Sex_Ratio_At_Birth_Total_Upper_Limit</th>\n",
       "      <th>ZZ_Sex_Ratio_At_Birth_Rural_Lower_Limit</th>\n",
       "      <th>ZZ_Sex_Ratio_At_Birth_Rural_Upper_Limit</th>\n",
       "      <th>ZZ_Sex_Ratio_At_Birth_Urban_Lower_Limit</th>\n",
       "      <th>ZZ_Sex_Ratio_At_Birth_Urban_Upper_Limit</th>\n",
       "    </tr>\n",
       "  </thead>\n",
       "  <tbody>\n",
       "    <tr>\n",
       "      <th>0</th>\n",
       "      <td>Assam</td>\n",
       "      <td>Barpeta</td>\n",
       "      <td>53</td>\n",
       "      <td>47</td>\n",
       "      <td>6</td>\n",
       "      <td>13711</td>\n",
       "      <td>12765</td>\n",
       "      <td>946</td>\n",
       "      <td>64606</td>\n",
       "      <td>60293</td>\n",
       "      <td>...</td>\n",
       "      <td>54</td>\n",
       "      <td>70</td>\n",
       "      <td>NaN</td>\n",
       "      <td>NaN</td>\n",
       "      <td>871</td>\n",
       "      <td>985</td>\n",
       "      <td>851</td>\n",
       "      <td>965</td>\n",
       "      <td>908.0</td>\n",
       "      <td>1611.0</td>\n",
       "    </tr>\n",
       "    <tr>\n",
       "      <th>1</th>\n",
       "      <td>Assam</td>\n",
       "      <td>Bongaigaon</td>\n",
       "      <td>89</td>\n",
       "      <td>73</td>\n",
       "      <td>16</td>\n",
       "      <td>17384</td>\n",
       "      <td>14904</td>\n",
       "      <td>2480</td>\n",
       "      <td>84012</td>\n",
       "      <td>73899</td>\n",
       "      <td>...</td>\n",
       "      <td>58</td>\n",
       "      <td>73</td>\n",
       "      <td>NaN</td>\n",
       "      <td>NaN</td>\n",
       "      <td>897</td>\n",
       "      <td>1005</td>\n",
       "      <td>911</td>\n",
       "      <td>1026</td>\n",
       "      <td>621.0</td>\n",
       "      <td>956.0</td>\n",
       "    </tr>\n",
       "    <tr>\n",
       "      <th>2</th>\n",
       "      <td>Assam</td>\n",
       "      <td>Cachar</td>\n",
       "      <td>105</td>\n",
       "      <td>84</td>\n",
       "      <td>21</td>\n",
       "      <td>27488</td>\n",
       "      <td>24207</td>\n",
       "      <td>3281</td>\n",
       "      <td>127158</td>\n",
       "      <td>112171</td>\n",
       "      <td>...</td>\n",
       "      <td>68</td>\n",
       "      <td>80</td>\n",
       "      <td>31.0</td>\n",
       "      <td>57.0</td>\n",
       "      <td>891</td>\n",
       "      <td>966</td>\n",
       "      <td>871</td>\n",
       "      <td>949</td>\n",
       "      <td>905.0</td>\n",
       "      <td>1168.0</td>\n",
       "    </tr>\n",
       "    <tr>\n",
       "      <th>3</th>\n",
       "      <td>Assam</td>\n",
       "      <td>Darrang</td>\n",
       "      <td>26</td>\n",
       "      <td>24</td>\n",
       "      <td>2</td>\n",
       "      <td>5951</td>\n",
       "      <td>5769</td>\n",
       "      <td>182</td>\n",
       "      <td>29048</td>\n",
       "      <td>28256</td>\n",
       "      <td>...</td>\n",
       "      <td>79</td>\n",
       "      <td>107</td>\n",
       "      <td>NaN</td>\n",
       "      <td>NaN</td>\n",
       "      <td>913</td>\n",
       "      <td>1102</td>\n",
       "      <td>908</td>\n",
       "      <td>1097</td>\n",
       "      <td>NaN</td>\n",
       "      <td>NaN</td>\n",
       "    </tr>\n",
       "    <tr>\n",
       "      <th>4</th>\n",
       "      <td>Assam</td>\n",
       "      <td>Dhemaji</td>\n",
       "      <td>121</td>\n",
       "      <td>108</td>\n",
       "      <td>13</td>\n",
       "      <td>14481</td>\n",
       "      <td>12619</td>\n",
       "      <td>1862</td>\n",
       "      <td>75451</td>\n",
       "      <td>66537</td>\n",
       "      <td>...</td>\n",
       "      <td>40</td>\n",
       "      <td>53</td>\n",
       "      <td>11.0</td>\n",
       "      <td>38.0</td>\n",
       "      <td>935</td>\n",
       "      <td>1045</td>\n",
       "      <td>938</td>\n",
       "      <td>1054</td>\n",
       "      <td>772.0</td>\n",
       "      <td>1083.0</td>\n",
       "    </tr>\n",
       "  </tbody>\n",
       "</table>\n",
       "<p>5 rows × 644 columns</p>\n",
       "</div>"
      ],
      "text/plain": [
       "  State_Name State_District_Name  AA_Sample_Units_Total  \\\n",
       "0      Assam             Barpeta                     53   \n",
       "1      Assam          Bongaigaon                     89   \n",
       "2      Assam              Cachar                    105   \n",
       "3      Assam             Darrang                     26   \n",
       "4      Assam             Dhemaji                    121   \n",
       "\n",
       "   AA_Sample_Units_Rural  AA_Sample_Units_Urban  AA_Households_Total  \\\n",
       "0                     47                      6                13711   \n",
       "1                     73                     16                17384   \n",
       "2                     84                     21                27488   \n",
       "3                     24                      2                 5951   \n",
       "4                    108                     13                14481   \n",
       "\n",
       "   AA_Households_Rural  AA_Households_Urban  AA_Population_Total  \\\n",
       "0                12765                  946                64606   \n",
       "1                14904                 2480                84012   \n",
       "2                24207                 3281               127158   \n",
       "3                 5769                  182                29048   \n",
       "4                12619                 1862                75451   \n",
       "\n",
       "   AA_Population_Rural  ...  \\\n",
       "0                60293  ...   \n",
       "1                73899  ...   \n",
       "2               112171  ...   \n",
       "3                28256  ...   \n",
       "4                66537  ...   \n",
       "\n",
       "   ZZ_Under_Five_Mortality_Rate_U5MR_Rural_Lower_Limit  \\\n",
       "0                                                 54     \n",
       "1                                                 58     \n",
       "2                                                 68     \n",
       "3                                                 79     \n",
       "4                                                 40     \n",
       "\n",
       "   ZZ_Under_Five_Mortality_Rate_U5MR_Rural_Upper_Limit  \\\n",
       "0                                                 70     \n",
       "1                                                 73     \n",
       "2                                                 80     \n",
       "3                                                107     \n",
       "4                                                 53     \n",
       "\n",
       "   ZZ_Under_Five_Mortality_Rate_U5MR_Urban_Lower_Limit  \\\n",
       "0                                                NaN     \n",
       "1                                                NaN     \n",
       "2                                               31.0     \n",
       "3                                                NaN     \n",
       "4                                               11.0     \n",
       "\n",
       "   ZZ_Under_Five_Mortality_Rate_U5MR_Urban_Upper_Limit  \\\n",
       "0                                                NaN     \n",
       "1                                                NaN     \n",
       "2                                               57.0     \n",
       "3                                                NaN     \n",
       "4                                               38.0     \n",
       "\n",
       "   ZZ_Sex_Ratio_At_Birth_Total_Lower_Limit  \\\n",
       "0                                      871   \n",
       "1                                      897   \n",
       "2                                      891   \n",
       "3                                      913   \n",
       "4                                      935   \n",
       "\n",
       "   ZZ_Sex_Ratio_At_Birth_Total_Upper_Limit  \\\n",
       "0                                      985   \n",
       "1                                     1005   \n",
       "2                                      966   \n",
       "3                                     1102   \n",
       "4                                     1045   \n",
       "\n",
       "   ZZ_Sex_Ratio_At_Birth_Rural_Lower_Limit  \\\n",
       "0                                      851   \n",
       "1                                      911   \n",
       "2                                      871   \n",
       "3                                      908   \n",
       "4                                      938   \n",
       "\n",
       "   ZZ_Sex_Ratio_At_Birth_Rural_Upper_Limit  \\\n",
       "0                                      965   \n",
       "1                                     1026   \n",
       "2                                      949   \n",
       "3                                     1097   \n",
       "4                                     1054   \n",
       "\n",
       "   ZZ_Sex_Ratio_At_Birth_Urban_Lower_Limit  \\\n",
       "0                                    908.0   \n",
       "1                                    621.0   \n",
       "2                                    905.0   \n",
       "3                                      NaN   \n",
       "4                                    772.0   \n",
       "\n",
       "   ZZ_Sex_Ratio_At_Birth_Urban_Upper_Limit  \n",
       "0                                   1611.0  \n",
       "1                                    956.0  \n",
       "2                                   1168.0  \n",
       "3                                      NaN  \n",
       "4                                   1083.0  \n",
       "\n",
       "[5 rows x 644 columns]"
      ]
     },
     "execution_count": 845,
     "metadata": {},
     "output_type": "execute_result"
    }
   ],
   "source": [
    "# displaying the head of ahs_df\n",
    "ahs_df.head()"
   ]
  },
  {
   "cell_type": "markdown",
   "id": "a2001a00",
   "metadata": {},
   "source": [
    "Just like in moe_df, we have a lot of columns. 644 columns! As discussed, India's AHS survey collects data on many different aspects of lifestyle and for our purposes, we won't need most columns.\n",
    "\n",
    "Similar to our filtering process above with moe_df, we need to select the columns we want to keep so we can get rid of everything else. "
   ]
  },
  {
   "cell_type": "markdown",
   "id": "d5bec19f",
   "metadata": {},
   "source": [
    "**Filtering columns**"
   ]
  },
  {
   "cell_type": "markdown",
   "id": "24b940cc",
   "metadata": {},
   "source": [
    "What columns are we keeping? We are most interested in the mortality rates (aka crude death rate) and there are three columns related to mortality rate: mortality rate and two columns Of course, we will also include the state and district columns."
   ]
  },
  {
   "cell_type": "code",
   "execution_count": 846,
   "id": "53059c53",
   "metadata": {},
   "outputs": [],
   "source": [
    "# list of columns in ahs_df we need\n",
    "ahs_cols = {'State_Name' : 'State', 'State_District_Name' : 'District',\n",
    "            'YY_Crude_Death_Rate_Cdr_Total_Person' : 'CDR', 'ZZ_Crude_Death_Rate_Total_Lower_Limit' : 'CDR_lower', \n",
    "            'ZZ_Crude_Death_Rate_Total_Upper_Limit' : 'CDR_upper'}"
   ]
  },
  {
   "cell_type": "code",
   "execution_count": 847,
   "id": "2aa6fea3",
   "metadata": {},
   "outputs": [],
   "source": [
    "# getting rid of columns in moe_df that we don't need\n",
    "ahs_df = ahs_df[ahs_cols]"
   ]
  },
  {
   "cell_type": "code",
   "execution_count": 848,
   "id": "f411e925",
   "metadata": {},
   "outputs": [],
   "source": [
    "# renaming columns\n",
    "ahs_df = ahs_df.rename(columns=ahs_cols)"
   ]
  },
  {
   "cell_type": "markdown",
   "id": "1052f672",
   "metadata": {},
   "source": [
    "Next, we can make sure all values are the right object types and make any necessary adjustments. "
   ]
  },
  {
   "cell_type": "markdown",
   "id": "0496b1a2",
   "metadata": {},
   "source": [
    "**Checking types**"
   ]
  },
  {
   "cell_type": "code",
   "execution_count": 849,
   "id": "7347862d",
   "metadata": {
    "scrolled": true
   },
   "outputs": [
    {
     "data": {
      "text/plain": [
       "State         object\n",
       "District      object\n",
       "CDR          float64\n",
       "CDR_lower    float64\n",
       "CDR_upper    float64\n",
       "dtype: object"
      ]
     },
     "execution_count": 849,
     "metadata": {},
     "output_type": "execute_result"
    }
   ],
   "source": [
    "# printing out object types\n",
    "ahs_df.dtypes"
   ]
  },
  {
   "cell_type": "markdown",
   "id": "275bab15",
   "metadata": {},
   "source": [
    "This shows what we hoped to see. State and District columns are both object types since they are strings, while the CDR column is a float64 objective since it represents numerical values."
   ]
  },
  {
   "cell_type": "markdown",
   "id": "27958a83",
   "metadata": {},
   "source": [
    "Now that both dataframes have been cleaned, we combine both dataframes into one dataframe that we will use in our statistical analysis. "
   ]
  },
  {
   "cell_type": "markdown",
   "id": "9cd0578d",
   "metadata": {},
   "source": [
    "### Combining dataframes"
   ]
  },
  {
   "cell_type": "markdown",
   "id": "6bfea240",
   "metadata": {},
   "source": [
    "**Important consideration**"
   ]
  },
  {
   "cell_type": "markdown",
   "id": "996439aa",
   "metadata": {},
   "source": [
    "The biggest consideration when combinining both dataframes is that not all districts are represented in both surveys. The final dataframe, india_df, will include data on districts found in both datasets. \n",
    "\n",
    "Let's compare how many districts are represented in each dataframe."
   ]
  },
  {
   "cell_type": "code",
   "execution_count": 850,
   "id": "abce9a46",
   "metadata": {},
   "outputs": [
    {
     "name": "stdout",
     "output_type": "stream",
     "text": [
      "ahs_df represents 284 districts while moe_df represents 680 districts\n"
     ]
    }
   ],
   "source": [
    "# finding the number of districts in each dataframe\n",
    "print('ahs_df represents {} districts while moe_df represents {} districts'.format(len(ahs_df), len(moe_df)))"
   ]
  },
  {
   "cell_type": "code",
   "execution_count": 851,
   "id": "ae028199",
   "metadata": {
    "scrolled": true
   },
   "outputs": [
    {
     "data": {
      "text/plain": [
       "256"
      ]
     },
     "execution_count": 851,
     "metadata": {},
     "output_type": "execute_result"
    }
   ],
   "source": [
    "# finding the number of districts that are found in both dataframes\n",
    "moe_unique_districts = moe_df['District'].unique()\n",
    "ahs_unique_districts = ahs_df['District'].unique()\n",
    "\n",
    "len(list(set(moe_unique_districts) & set(ahs_unique_districts)))"
   ]
  },
  {
   "cell_type": "markdown",
   "id": "314b7e7b",
   "metadata": {},
   "source": [
    "We now know the final combined dataframe will have 256 districts. The next step is to combine the dataframes."
   ]
  },
  {
   "cell_type": "markdown",
   "id": "8bddf263",
   "metadata": {},
   "source": [
    "**Merging dataframes**"
   ]
  },
  {
   "cell_type": "code",
   "execution_count": 852,
   "id": "38503293",
   "metadata": {
    "scrolled": false
   },
   "outputs": [],
   "source": [
    "# creating india_df\n",
    "india_df = moe_df.merge(ahs_df, on=['State', 'District'], how='inner')"
   ]
  },
  {
   "cell_type": "code",
   "execution_count": 853,
   "id": "a6bf0d79",
   "metadata": {},
   "outputs": [
    {
     "data": {
      "text/plain": [
       "256"
      ]
     },
     "execution_count": 853,
     "metadata": {},
     "output_type": "execute_result"
    }
   ],
   "source": [
    "# verifying that india_df has 256 districts\n",
    "len(india_df)"
   ]
  },
  {
   "cell_type": "markdown",
   "id": "69259320",
   "metadata": {},
   "source": [
    "As we expected given our analysis above, india_df represents 256 districts. "
   ]
  },
  {
   "cell_type": "code",
   "execution_count": 854,
   "id": "9df0e0bc",
   "metadata": {},
   "outputs": [
    {
     "data": {
      "text/html": [
       "<div>\n",
       "<style scoped>\n",
       "    .dataframe tbody tr th:only-of-type {\n",
       "        vertical-align: middle;\n",
       "    }\n",
       "\n",
       "    .dataframe tbody tr th {\n",
       "        vertical-align: top;\n",
       "    }\n",
       "\n",
       "    .dataframe thead th {\n",
       "        text-align: right;\n",
       "    }\n",
       "</style>\n",
       "<table border=\"1\" class=\"dataframe\">\n",
       "  <thead>\n",
       "    <tr style=\"text-align: right;\">\n",
       "      <th></th>\n",
       "      <th>State</th>\n",
       "      <th>District</th>\n",
       "      <th>SC Students</th>\n",
       "      <th>ST Students</th>\n",
       "      <th>OBC Students</th>\n",
       "      <th>Primary Classrooms</th>\n",
       "      <th>Primary Schools</th>\n",
       "      <th>Primary Teachers</th>\n",
       "      <th>STR over 30</th>\n",
       "      <th>Teacher Qualification Below Secondary</th>\n",
       "      <th>...</th>\n",
       "      <th>Grade 5 Girls</th>\n",
       "      <th>Playground Access</th>\n",
       "      <th>Electricity Access</th>\n",
       "      <th>Computer Access</th>\n",
       "      <th>Classrooms Good Condition</th>\n",
       "      <th>Classrooms Minor Repair</th>\n",
       "      <th>Classrooms Major Repair</th>\n",
       "      <th>CDR</th>\n",
       "      <th>CDR_lower</th>\n",
       "      <th>CDR_upper</th>\n",
       "    </tr>\n",
       "  </thead>\n",
       "  <tbody>\n",
       "    <tr>\n",
       "      <th>0</th>\n",
       "      <td>Uttarakhand</td>\n",
       "      <td>Uttarkashi</td>\n",
       "      <td>11753</td>\n",
       "      <td>503</td>\n",
       "      <td>20994</td>\n",
       "      <td>2417</td>\n",
       "      <td>924</td>\n",
       "      <td>2335</td>\n",
       "      <td>26</td>\n",
       "      <td>20</td>\n",
       "      <td>...</td>\n",
       "      <td>3428</td>\n",
       "      <td>425</td>\n",
       "      <td>518</td>\n",
       "      <td>134</td>\n",
       "      <td>1565</td>\n",
       "      <td>443</td>\n",
       "      <td>411</td>\n",
       "      <td>4.63</td>\n",
       "      <td>4.27</td>\n",
       "      <td>4.99</td>\n",
       "    </tr>\n",
       "    <tr>\n",
       "      <th>1</th>\n",
       "      <td>Uttarakhand</td>\n",
       "      <td>Chamoli</td>\n",
       "      <td>9497</td>\n",
       "      <td>696</td>\n",
       "      <td>864</td>\n",
       "      <td>3021</td>\n",
       "      <td>1093</td>\n",
       "      <td>2581</td>\n",
       "      <td>14</td>\n",
       "      <td>3</td>\n",
       "      <td>...</td>\n",
       "      <td>3687</td>\n",
       "      <td>825</td>\n",
       "      <td>272</td>\n",
       "      <td>54</td>\n",
       "      <td>1724</td>\n",
       "      <td>504</td>\n",
       "      <td>793</td>\n",
       "      <td>5.29</td>\n",
       "      <td>5.46</td>\n",
       "      <td>5.89</td>\n",
       "    </tr>\n",
       "    <tr>\n",
       "      <th>2</th>\n",
       "      <td>Uttarakhand</td>\n",
       "      <td>Rudraprayag</td>\n",
       "      <td>6201</td>\n",
       "      <td>72</td>\n",
       "      <td>464</td>\n",
       "      <td>1813</td>\n",
       "      <td>672</td>\n",
       "      <td>1575</td>\n",
       "      <td>8</td>\n",
       "      <td>7</td>\n",
       "      <td>...</td>\n",
       "      <td>2484</td>\n",
       "      <td>216</td>\n",
       "      <td>455</td>\n",
       "      <td>39</td>\n",
       "      <td>1211</td>\n",
       "      <td>242</td>\n",
       "      <td>360</td>\n",
       "      <td>6.06</td>\n",
       "      <td>5.86</td>\n",
       "      <td>6.26</td>\n",
       "    </tr>\n",
       "    <tr>\n",
       "      <th>3</th>\n",
       "      <td>Uttarakhand</td>\n",
       "      <td>Tehri Garhwal</td>\n",
       "      <td>13456</td>\n",
       "      <td>114</td>\n",
       "      <td>6540</td>\n",
       "      <td>4253</td>\n",
       "      <td>1702</td>\n",
       "      <td>4293</td>\n",
       "      <td>38</td>\n",
       "      <td>44</td>\n",
       "      <td>...</td>\n",
       "      <td>6378</td>\n",
       "      <td>931</td>\n",
       "      <td>1025</td>\n",
       "      <td>210</td>\n",
       "      <td>2513</td>\n",
       "      <td>728</td>\n",
       "      <td>1012</td>\n",
       "      <td>8.74</td>\n",
       "      <td>8.45</td>\n",
       "      <td>9.04</td>\n",
       "    </tr>\n",
       "    <tr>\n",
       "      <th>4</th>\n",
       "      <td>Uttarakhand</td>\n",
       "      <td>Dehradun</td>\n",
       "      <td>31250</td>\n",
       "      <td>11908</td>\n",
       "      <td>34881</td>\n",
       "      <td>5228</td>\n",
       "      <td>1381</td>\n",
       "      <td>4315</td>\n",
       "      <td>413</td>\n",
       "      <td>114</td>\n",
       "      <td>...</td>\n",
       "      <td>16017</td>\n",
       "      <td>855</td>\n",
       "      <td>1200</td>\n",
       "      <td>288</td>\n",
       "      <td>3778</td>\n",
       "      <td>710</td>\n",
       "      <td>770</td>\n",
       "      <td>6.49</td>\n",
       "      <td>6.26</td>\n",
       "      <td>6.72</td>\n",
       "    </tr>\n",
       "  </tbody>\n",
       "</table>\n",
       "<p>5 rows × 36 columns</p>\n",
       "</div>"
      ],
      "text/plain": [
       "         State       District  SC Students  ST Students  OBC Students  \\\n",
       "0  Uttarakhand     Uttarkashi        11753          503         20994   \n",
       "1  Uttarakhand        Chamoli         9497          696           864   \n",
       "2  Uttarakhand    Rudraprayag         6201           72           464   \n",
       "3  Uttarakhand  Tehri Garhwal        13456          114          6540   \n",
       "4  Uttarakhand       Dehradun        31250        11908         34881   \n",
       "\n",
       "   Primary Classrooms  Primary Schools  Primary Teachers  STR over 30  \\\n",
       "0                2417              924              2335           26   \n",
       "1                3021             1093              2581           14   \n",
       "2                1813              672              1575            8   \n",
       "3                4253             1702              4293           38   \n",
       "4                5228             1381              4315          413   \n",
       "\n",
       "   Teacher Qualification Below Secondary  ...  Grade 5 Girls  \\\n",
       "0                                     20  ...           3428   \n",
       "1                                      3  ...           3687   \n",
       "2                                      7  ...           2484   \n",
       "3                                     44  ...           6378   \n",
       "4                                    114  ...          16017   \n",
       "\n",
       "   Playground Access  Electricity Access  Computer Access  \\\n",
       "0                425                 518              134   \n",
       "1                825                 272               54   \n",
       "2                216                 455               39   \n",
       "3                931                1025              210   \n",
       "4                855                1200              288   \n",
       "\n",
       "   Classrooms Good Condition  Classrooms Minor Repair  \\\n",
       "0                       1565                      443   \n",
       "1                       1724                      504   \n",
       "2                       1211                      242   \n",
       "3                       2513                      728   \n",
       "4                       3778                      710   \n",
       "\n",
       "   Classrooms Major Repair   CDR  CDR_lower  CDR_upper  \n",
       "0                      411  4.63       4.27       4.99  \n",
       "1                      793  5.29       5.46       5.89  \n",
       "2                      360  6.06       5.86       6.26  \n",
       "3                     1012  8.74       8.45       9.04  \n",
       "4                      770  6.49       6.26       6.72  \n",
       "\n",
       "[5 rows x 36 columns]"
      ]
     },
     "execution_count": 854,
     "metadata": {},
     "output_type": "execute_result"
    }
   ],
   "source": [
    "# displaying the head of india_df\n",
    "india_df.head()"
   ]
  },
  {
   "cell_type": "markdown",
   "id": "4b759d75",
   "metadata": {},
   "source": [
    "Next, given the data we have here, we can also create new columns that will help in our analysis. "
   ]
  },
  {
   "cell_type": "markdown",
   "id": "5e6b0013",
   "metadata": {},
   "source": [
    "### Feature Engineering"
   ]
  },
  {
   "cell_type": "markdown",
   "id": "056026f5",
   "metadata": {},
   "source": [
    "Feature engineering describes the process of using domain knowledge to extract valuable information from the data in the dataframe. We can create new columns that hold important data that we generate from data in the original columns."
   ]
  },
  {
   "cell_type": "markdown",
   "id": "abffbdc8",
   "metadata": {},
   "source": [
    "We start with aggregating or combining grade-level columns (ex. 'Grade 1 Boys') into one column that sums all students enrolled in primary school."
   ]
  },
  {
   "cell_type": "markdown",
   "id": "92edfa3b",
   "metadata": {},
   "source": [
    "**Aggregating grade-level columns**"
   ]
  },
  {
   "cell_type": "markdown",
   "id": "a6c2dcaf",
   "metadata": {},
   "source": [
    "As we see above, the dataframe has many extra columns because the survey divides columns by grade level. Because we won't be doing analysis on grade-level data, we can sum the column values for each district to get that district's primary school enrollment count. \n",
    "\n",
    "Because they are so many columns involved, it's best to write a function to reduce messiness in the code below."
   ]
  },
  {
   "cell_type": "code",
   "execution_count": 855,
   "id": "ac804e6c",
   "metadata": {},
   "outputs": [],
   "source": [
    "def enrollment_count(row):\n",
    "    # initiating variable\n",
    "    total = 0\n",
    "    \n",
    "    # iterating through i = 0 -> 5 to sum values from all grade-level columns\n",
    "    for i in range(5):\n",
    "        total += row['Grade {} Boys'.format(i+1)] + row['Grade {} Girls'.format(i+1)]\n",
    "        \n",
    "    # return variable\n",
    "    return total"
   ]
  },
  {
   "cell_type": "code",
   "execution_count": 856,
   "id": "54c96cf7",
   "metadata": {},
   "outputs": [],
   "source": [
    "# creating 'Primary Enrollment' column\n",
    "india_df['Primary Enrollment'] = india_df.apply(lambda x: enrollment_count(x), axis=1)"
   ]
  },
  {
   "cell_type": "markdown",
   "id": "a7e62555",
   "metadata": {},
   "source": [
    "Now that we have a column that represents the total enrollment of primary students in each district, we can get rid of all the grade-level columns."
   ]
  },
  {
   "cell_type": "code",
   "execution_count": 857,
   "id": "4f8aeb62",
   "metadata": {},
   "outputs": [],
   "source": [
    "# deleting grade-level columns\n",
    "india_df = india_df.drop(columns=['Grade 1 Boys', 'Grade 2 Boys', 'Grade 3 Boys', 'Grade 4 Boys', 'Grade 5 Boys', \n",
    "                              'Grade 1 Girls', 'Grade 2 Girls', 'Grade 3 Girls', 'Grade 4 Girls', 'Grade 5 Girls'])"
   ]
  },
  {
   "cell_type": "markdown",
   "id": "af123832",
   "metadata": {},
   "source": [
    "Next, we can aggregate the teacher columns to decrease the number of columns."
   ]
  },
  {
   "cell_type": "markdown",
   "id": "920893c8",
   "metadata": {},
   "source": [
    "**Aggregating teacher columns**"
   ]
  },
  {
   "cell_type": "markdown",
   "id": "31171c34",
   "metadata": {},
   "source": [
    "Just as we did above, we can use a function to aggregate all teacher qualification columns to find the sum of all teachers involved (does not include contractual teachers)."
   ]
  },
  {
   "cell_type": "markdown",
   "id": "81699700",
   "metadata": {},
   "source": [
    "As mentioned above, we determine that a teacher is qualified to teach primary (elementary) school if they have a Bachelor's Degree. In the survey and in accordance with Indian verbiage, we are interested in finding the percent of teachers who have at least a \"graduate\" status."
   ]
  },
  {
   "cell_type": "code",
   "execution_count": 858,
   "id": "9dd0271e",
   "metadata": {},
   "outputs": [],
   "source": [
    "def qualified_teachers(columns, row):\n",
    "    # initiating variables\n",
    "    total = 0\n",
    "    qualified = 0\n",
    "    \n",
    "    # iterate through list of columns and appropriately increment variables\n",
    "    for column in columns:\n",
    "        total += row[column]\n",
    "        if 'secondary' not in column.lower() and 'undetermined' not in column.lower():\n",
    "            qualified += row[column]\n",
    "    \n",
    "    # return percent\n",
    "    return qualified / total"
   ]
  },
  {
   "cell_type": "code",
   "execution_count": 859,
   "id": "cb479084",
   "metadata": {},
   "outputs": [],
   "source": [
    "# define teacher-related columns\n",
    "teacher_columns = ['Teacher Qualification Below Secondary', 'Teacher Qualification Secondary', \n",
    "           'Teacher Qualification Higher Secondary', 'Teacher Qualification Graduate',\n",
    "           'Teacher Qualifcation Post Grad', 'Teacher Qualification PHD','Teacher Qualification Post Doctorate', \n",
    "           'Teacher Qualification Undetermined']"
   ]
  },
  {
   "cell_type": "code",
   "execution_count": 860,
   "id": "7307adcd",
   "metadata": {},
   "outputs": [],
   "source": [
    "# creating 'Qualified Teachers Percent' column\n",
    "india_df['Qualified Teachers Percent'] = india_df.apply(lambda x: qualified_teachers(teacher_columns, x), axis=1)"
   ]
  },
  {
   "cell_type": "markdown",
   "id": "7fe42297",
   "metadata": {},
   "source": [
    "Now that we have a column that represents the percent of qualified teachers in the district, we can remove the teacher-level columns."
   ]
  },
  {
   "cell_type": "code",
   "execution_count": 861,
   "id": "05b9a3cf",
   "metadata": {},
   "outputs": [],
   "source": [
    "# deleting teacher-related columns\n",
    "india_df = india_df.drop(columns=teacher_columns)"
   ]
  },
  {
   "cell_type": "markdown",
   "id": "a6c238a6",
   "metadata": {},
   "source": [
    "Within the student breakdown, we currently have columns that tell us the number of students in the SC, ST, and OBC castes. However, we're missing the number of students in the General caste. To get that number, we can subtract the sum of students in the SC, ST, and OBC castes and subtract that from the number of students enrolled ('Primary Enrollment')."
   ]
  },
  {
   "cell_type": "markdown",
   "id": "d5a2c921",
   "metadata": {},
   "source": [
    "**Finding number of students in General caste**"
   ]
  },
  {
   "cell_type": "markdown",
   "id": "0659a3ab",
   "metadata": {},
   "source": [
    "The best way to do this is to create a function that will do this to avoid messiness."
   ]
  },
  {
   "cell_type": "code",
   "execution_count": 862,
   "id": "2069247b",
   "metadata": {},
   "outputs": [],
   "source": [
    "def general_caste_identification(columns, row):\n",
    "    # initiate variable\n",
    "    total = 0\n",
    "    \n",
    "    # find sum of underpriviledged castes\n",
    "    for column in columns:\n",
    "        total += row[column]\n",
    "        \n",
    "    # return value\n",
    "    return row['Primary Enrollment'] - total"
   ]
  },
  {
   "cell_type": "code",
   "execution_count": 863,
   "id": "4ee6f6b7",
   "metadata": {},
   "outputs": [],
   "source": [
    "caste_columns = ['SC Students', 'ST Students', 'OBC Students']"
   ]
  },
  {
   "cell_type": "code",
   "execution_count": 864,
   "id": "09915ee4",
   "metadata": {},
   "outputs": [],
   "source": [
    "# calculating the # of students in general caste\n",
    "india_df['General'] = india_df.apply(lambda x: general_caste_identification(caste_columns, x), axis=1)"
   ]
  },
  {
   "cell_type": "markdown",
   "id": "cc59da6f",
   "metadata": {},
   "source": [
    "We can also find the percent of students in non-general castes, which will serve as a useful metric later in our analysis."
   ]
  },
  {
   "cell_type": "code",
   "execution_count": 865,
   "id": "84cc3e08",
   "metadata": {},
   "outputs": [],
   "source": [
    "# calculating % of students in general caste\n",
    "india_df['Non-General Percent'] = 1 - (india_df['General'] / india_df['Primary Enrollment'])"
   ]
  },
  {
   "cell_type": "markdown",
   "id": "61184c46",
   "metadata": {},
   "source": [
    "Another useful metric we can extract from the data is the average amount of students per school. We have columns for the number of students enrolled in the district and the number of schools in that district. We can easy identify our metric value by dividing the (# of students) by (# of schools)."
   ]
  },
  {
   "cell_type": "markdown",
   "id": "2a5aff72",
   "metadata": {},
   "source": [
    "**Calculating number of students / school**"
   ]
  },
  {
   "cell_type": "code",
   "execution_count": 866,
   "id": "db35d0b7",
   "metadata": {},
   "outputs": [],
   "source": [
    "# calculating # of students per school\n",
    "india_df['Students per school'] = india_df['Primary Enrollment'] / india_df['Primary Schools']"
   ]
  },
  {
   "cell_type": "markdown",
   "id": "ab00b260",
   "metadata": {},
   "source": [
    "Next, a few columns including 'STR over 30', 'Electricity Access', 'Playground Access', and 'Computer Access' represent the number of schools in a district describes by the column. However, when it comes to doing analysis, we are more interested in the percentage of schools so that these values are scaled to the amount to the number of schools in a district.\n",
    "\n",
    "To get the percentage of schools for each of these columns, we can divide each column by the 'Primary Schools' column."
   ]
  },
  {
   "cell_type": "markdown",
   "id": "c6a0351b",
   "metadata": {},
   "source": [
    "**Converting school count metrics to percentage**"
   ]
  },
  {
   "cell_type": "code",
   "execution_count": 867,
   "id": "26ccfb75",
   "metadata": {},
   "outputs": [],
   "source": [
    "# defining the columns mentioned above\n",
    "school_metric_columns = ['STR over 30', 'Electricity Access', 'Computer Access', 'Playground Access']"
   ]
  },
  {
   "cell_type": "code",
   "execution_count": 868,
   "id": "1e1d82da",
   "metadata": {},
   "outputs": [],
   "source": [
    "# dividing each column by the # of schools in the district\n",
    "for column in school_metric_columns:\n",
    "    india_df[column + ' Percent'] = india_df[column] / india_df['Primary Schools']"
   ]
  },
  {
   "cell_type": "markdown",
   "id": "13bddac1",
   "metadata": {},
   "source": [
    "Because of data collection errors, we need manually correct all STR over 30 Percent values above 1. We will also convert this column to schools with less than 30:1 ratio."
   ]
  },
  {
   "cell_type": "code",
   "execution_count": 869,
   "id": "faf050e4",
   "metadata": {},
   "outputs": [],
   "source": [
    "def correct_str_column(value):\n",
    "    if value > 1:\n",
    "        return 0\n",
    "    else:\n",
    "        return 1-value"
   ]
  },
  {
   "cell_type": "code",
   "execution_count": 870,
   "id": "b164c62a",
   "metadata": {},
   "outputs": [],
   "source": [
    "# manually correcting 'STR over 30 Percent' column values\n",
    "india_df['STR under 30 Percent'] = india_df['STR over 30 Percent'].apply(lambda x: correct_str_column(x))"
   ]
  },
  {
   "cell_type": "markdown",
   "id": "6feb83ea",
   "metadata": {},
   "source": [
    "Since we have this new columns with the percent, we can get rid of the original columns."
   ]
  },
  {
   "cell_type": "code",
   "execution_count": 871,
   "id": "9ffa28fe",
   "metadata": {},
   "outputs": [],
   "source": [
    "# deleting columns in school_metric_columns \n",
    "school_metric_columns.append('STR over 30 Percent')\n",
    "india_df = india_df.drop(columns = school_metric_columns)"
   ]
  },
  {
   "cell_type": "markdown",
   "id": "3e90c912",
   "metadata": {},
   "source": [
    "Similar to what we did above, we need to do the same thing with classroom condition columns. The columns currently represent the number of classrooms in one of these conditions: good, needs minor repair, or needs major repair. \n",
    "\n",
    "However, we want the percentage of classrooms in good condition which is more useful for analysis since these values are scaled by the number of total classrooms."
   ]
  },
  {
   "cell_type": "markdown",
   "id": "8d9976bc",
   "metadata": {},
   "source": [
    "**Converting classroom condition columns to percentage**"
   ]
  },
  {
   "cell_type": "code",
   "execution_count": 872,
   "id": "b960767f",
   "metadata": {},
   "outputs": [],
   "source": [
    "# defining the columns mentioned above\n",
    "classroom_columns = ['Classrooms Good Condition', 'Classrooms Minor Repair', 'Classrooms Major Repair']"
   ]
  },
  {
   "cell_type": "code",
   "execution_count": 873,
   "id": "d18371ec",
   "metadata": {},
   "outputs": [
    {
     "data": {
      "text/plain": [
       "Index(['State', 'District', 'SC Students', 'ST Students', 'OBC Students',\n",
       "       'Primary Classrooms', 'Primary Schools', 'Primary Teachers',\n",
       "       'Classrooms Good Condition', 'Classrooms Minor Repair',\n",
       "       'Classrooms Major Repair', 'CDR', 'CDR_lower', 'CDR_upper',\n",
       "       'Primary Enrollment', 'Qualified Teachers Percent', 'General',\n",
       "       'Non-General Percent', 'Students per school',\n",
       "       'Electricity Access Percent', 'Computer Access Percent',\n",
       "       'Playground Access Percent', 'STR under 30 Percent'],\n",
       "      dtype='object')"
      ]
     },
     "execution_count": 873,
     "metadata": {},
     "output_type": "execute_result"
    }
   ],
   "source": [
    "india_df.columns"
   ]
  },
  {
   "cell_type": "code",
   "execution_count": 874,
   "id": "8d6b1318",
   "metadata": {},
   "outputs": [],
   "source": [
    "# converting classroom condition column to percentage\n",
    "new_column = 'Classrooms in Good Condition'\n",
    "india_df[new_column] = india_df['Classrooms Good Condition'] / india_df['Primary Classrooms']"
   ]
  },
  {
   "cell_type": "markdown",
   "id": "423a11ca",
   "metadata": {},
   "source": [
    "Since we have this new columns with the percent, we can get rid of the columns in classroom_columns."
   ]
  },
  {
   "cell_type": "code",
   "execution_count": 875,
   "id": "c7618588",
   "metadata": {},
   "outputs": [],
   "source": [
    "# deleting columns in classroom_columns \n",
    "india_df = india_df.drop(columns = classroom_columns)"
   ]
  },
  {
   "cell_type": "markdown",
   "id": "52dde752",
   "metadata": {},
   "source": [
    "Now that we've cleaned up india_df and used feature engineering to create new columns that we'll use in our analysis, below, here is the final version of india_df:"
   ]
  },
  {
   "cell_type": "markdown",
   "id": "c62f51c4",
   "metadata": {},
   "source": [
    "**Analysis-ready version of india_df**"
   ]
  },
  {
   "cell_type": "code",
   "execution_count": 876,
   "id": "c237fbe3",
   "metadata": {},
   "outputs": [
    {
     "data": {
      "text/html": [
       "<div>\n",
       "<style scoped>\n",
       "    .dataframe tbody tr th:only-of-type {\n",
       "        vertical-align: middle;\n",
       "    }\n",
       "\n",
       "    .dataframe tbody tr th {\n",
       "        vertical-align: top;\n",
       "    }\n",
       "\n",
       "    .dataframe thead th {\n",
       "        text-align: right;\n",
       "    }\n",
       "</style>\n",
       "<table border=\"1\" class=\"dataframe\">\n",
       "  <thead>\n",
       "    <tr style=\"text-align: right;\">\n",
       "      <th></th>\n",
       "      <th>State</th>\n",
       "      <th>District</th>\n",
       "      <th>SC Students</th>\n",
       "      <th>ST Students</th>\n",
       "      <th>OBC Students</th>\n",
       "      <th>Primary Classrooms</th>\n",
       "      <th>Primary Schools</th>\n",
       "      <th>Primary Teachers</th>\n",
       "      <th>CDR</th>\n",
       "      <th>CDR_lower</th>\n",
       "      <th>...</th>\n",
       "      <th>Primary Enrollment</th>\n",
       "      <th>Qualified Teachers Percent</th>\n",
       "      <th>General</th>\n",
       "      <th>Non-General Percent</th>\n",
       "      <th>Students per school</th>\n",
       "      <th>Electricity Access Percent</th>\n",
       "      <th>Computer Access Percent</th>\n",
       "      <th>Playground Access Percent</th>\n",
       "      <th>STR under 30 Percent</th>\n",
       "      <th>Classrooms in Good Condition</th>\n",
       "    </tr>\n",
       "  </thead>\n",
       "  <tbody>\n",
       "    <tr>\n",
       "      <th>0</th>\n",
       "      <td>Uttarakhand</td>\n",
       "      <td>Uttarkashi</td>\n",
       "      <td>11753</td>\n",
       "      <td>503</td>\n",
       "      <td>20994</td>\n",
       "      <td>2417</td>\n",
       "      <td>924</td>\n",
       "      <td>2335</td>\n",
       "      <td>4.63</td>\n",
       "      <td>4.27</td>\n",
       "      <td>...</td>\n",
       "      <td>39131</td>\n",
       "      <td>0.891588</td>\n",
       "      <td>5881</td>\n",
       "      <td>0.849710</td>\n",
       "      <td>42.349567</td>\n",
       "      <td>0.560606</td>\n",
       "      <td>0.145022</td>\n",
       "      <td>0.459957</td>\n",
       "      <td>0.971861</td>\n",
       "      <td>0.647497</td>\n",
       "    </tr>\n",
       "    <tr>\n",
       "      <th>1</th>\n",
       "      <td>Uttarakhand</td>\n",
       "      <td>Chamoli</td>\n",
       "      <td>9497</td>\n",
       "      <td>696</td>\n",
       "      <td>864</td>\n",
       "      <td>3021</td>\n",
       "      <td>1093</td>\n",
       "      <td>2581</td>\n",
       "      <td>5.29</td>\n",
       "      <td>5.46</td>\n",
       "      <td>...</td>\n",
       "      <td>37124</td>\n",
       "      <td>0.923473</td>\n",
       "      <td>26067</td>\n",
       "      <td>0.297840</td>\n",
       "      <td>33.965233</td>\n",
       "      <td>0.248856</td>\n",
       "      <td>0.049405</td>\n",
       "      <td>0.754803</td>\n",
       "      <td>0.987191</td>\n",
       "      <td>0.570672</td>\n",
       "    </tr>\n",
       "    <tr>\n",
       "      <th>2</th>\n",
       "      <td>Uttarakhand</td>\n",
       "      <td>Rudraprayag</td>\n",
       "      <td>6201</td>\n",
       "      <td>72</td>\n",
       "      <td>464</td>\n",
       "      <td>1813</td>\n",
       "      <td>672</td>\n",
       "      <td>1575</td>\n",
       "      <td>6.06</td>\n",
       "      <td>5.86</td>\n",
       "      <td>...</td>\n",
       "      <td>23953</td>\n",
       "      <td>0.887640</td>\n",
       "      <td>17216</td>\n",
       "      <td>0.281259</td>\n",
       "      <td>35.644345</td>\n",
       "      <td>0.677083</td>\n",
       "      <td>0.058036</td>\n",
       "      <td>0.321429</td>\n",
       "      <td>0.988095</td>\n",
       "      <td>0.667954</td>\n",
       "    </tr>\n",
       "    <tr>\n",
       "      <th>3</th>\n",
       "      <td>Uttarakhand</td>\n",
       "      <td>Tehri Garhwal</td>\n",
       "      <td>13456</td>\n",
       "      <td>114</td>\n",
       "      <td>6540</td>\n",
       "      <td>4253</td>\n",
       "      <td>1702</td>\n",
       "      <td>4293</td>\n",
       "      <td>8.74</td>\n",
       "      <td>8.45</td>\n",
       "      <td>...</td>\n",
       "      <td>61735</td>\n",
       "      <td>0.866210</td>\n",
       "      <td>41625</td>\n",
       "      <td>0.325747</td>\n",
       "      <td>36.272033</td>\n",
       "      <td>0.602233</td>\n",
       "      <td>0.123384</td>\n",
       "      <td>0.547004</td>\n",
       "      <td>0.977673</td>\n",
       "      <td>0.590877</td>\n",
       "    </tr>\n",
       "    <tr>\n",
       "      <th>4</th>\n",
       "      <td>Uttarakhand</td>\n",
       "      <td>Dehradun</td>\n",
       "      <td>31250</td>\n",
       "      <td>11908</td>\n",
       "      <td>34881</td>\n",
       "      <td>5228</td>\n",
       "      <td>1381</td>\n",
       "      <td>4315</td>\n",
       "      <td>6.49</td>\n",
       "      <td>6.26</td>\n",
       "      <td>...</td>\n",
       "      <td>182369</td>\n",
       "      <td>0.855618</td>\n",
       "      <td>104330</td>\n",
       "      <td>0.427918</td>\n",
       "      <td>132.055757</td>\n",
       "      <td>0.868936</td>\n",
       "      <td>0.208545</td>\n",
       "      <td>0.619117</td>\n",
       "      <td>0.700941</td>\n",
       "      <td>0.722647</td>\n",
       "    </tr>\n",
       "  </tbody>\n",
       "</table>\n",
       "<p>5 rows × 21 columns</p>\n",
       "</div>"
      ],
      "text/plain": [
       "         State       District  SC Students  ST Students  OBC Students  \\\n",
       "0  Uttarakhand     Uttarkashi        11753          503         20994   \n",
       "1  Uttarakhand        Chamoli         9497          696           864   \n",
       "2  Uttarakhand    Rudraprayag         6201           72           464   \n",
       "3  Uttarakhand  Tehri Garhwal        13456          114          6540   \n",
       "4  Uttarakhand       Dehradun        31250        11908         34881   \n",
       "\n",
       "   Primary Classrooms  Primary Schools  Primary Teachers   CDR  CDR_lower  \\\n",
       "0                2417              924              2335  4.63       4.27   \n",
       "1                3021             1093              2581  5.29       5.46   \n",
       "2                1813              672              1575  6.06       5.86   \n",
       "3                4253             1702              4293  8.74       8.45   \n",
       "4                5228             1381              4315  6.49       6.26   \n",
       "\n",
       "   ...  Primary Enrollment  Qualified Teachers Percent  General  \\\n",
       "0  ...               39131                    0.891588     5881   \n",
       "1  ...               37124                    0.923473    26067   \n",
       "2  ...               23953                    0.887640    17216   \n",
       "3  ...               61735                    0.866210    41625   \n",
       "4  ...              182369                    0.855618   104330   \n",
       "\n",
       "   Non-General Percent  Students per school  Electricity Access Percent  \\\n",
       "0             0.849710            42.349567                    0.560606   \n",
       "1             0.297840            33.965233                    0.248856   \n",
       "2             0.281259            35.644345                    0.677083   \n",
       "3             0.325747            36.272033                    0.602233   \n",
       "4             0.427918           132.055757                    0.868936   \n",
       "\n",
       "   Computer Access Percent  Playground Access Percent  STR under 30 Percent  \\\n",
       "0                 0.145022                   0.459957              0.971861   \n",
       "1                 0.049405                   0.754803              0.987191   \n",
       "2                 0.058036                   0.321429              0.988095   \n",
       "3                 0.123384                   0.547004              0.977673   \n",
       "4                 0.208545                   0.619117              0.700941   \n",
       "\n",
       "   Classrooms in Good Condition  \n",
       "0                      0.647497  \n",
       "1                      0.570672  \n",
       "2                      0.667954  \n",
       "3                      0.590877  \n",
       "4                      0.722647  \n",
       "\n",
       "[5 rows x 21 columns]"
      ]
     },
     "execution_count": 876,
     "metadata": {},
     "output_type": "execute_result"
    }
   ],
   "source": [
    "india_df.head()"
   ]
  },
  {
   "cell_type": "markdown",
   "id": "1e5e6186",
   "metadata": {},
   "source": [
    "Next, we can move onto exploring the data in india_df to understand more about mortality and education in India. This exploratory analysis will inform how we think about the data we have and will shape our statistical analysis."
   ]
  },
  {
   "cell_type": "markdown",
   "id": "2189eebf",
   "metadata": {},
   "source": [
    "## 6. Exploratory Data Analysis"
   ]
  },
  {
   "cell_type": "markdown",
   "id": "49acaa82",
   "metadata": {},
   "source": [
    "### Exploring india_df"
   ]
  },
  {
   "cell_type": "markdown",
   "id": "59de0999",
   "metadata": {},
   "source": [
    "Let's start with finding some basic information about our dataframe"
   ]
  },
  {
   "cell_type": "code",
   "execution_count": 877,
   "id": "a940251d",
   "metadata": {},
   "outputs": [
    {
     "data": {
      "text/plain": [
       "(256, 21)"
      ]
     },
     "execution_count": 877,
     "metadata": {},
     "output_type": "execute_result"
    }
   ],
   "source": [
    "# shape of india_df\n",
    "india_df.shape"
   ]
  },
  {
   "cell_type": "markdown",
   "id": "0111c2ea",
   "metadata": {},
   "source": [
    "The shape of the dataframe tells us that we have 21 features / variables on 256 districts in India."
   ]
  },
  {
   "cell_type": "code",
   "execution_count": 878,
   "id": "ba4fe60d",
   "metadata": {},
   "outputs": [
    {
     "name": "stdout",
     "output_type": "stream",
     "text": [
      "This dataset covers 65,593,875 students and 1,233,516 teachers\n"
     ]
    }
   ],
   "source": [
    "# number of primary students and teachers\n",
    "students = '{:,}'.format(india_df['Primary Enrollment'].sum())\n",
    "teachers = '{:,}'.format(india_df['Primary Teachers'].sum())\n",
    "print('This dataset covers {} students and {} teachers'.format(students, teachers))"
   ]
  },
  {
   "cell_type": "markdown",
   "id": "42e25d9e",
   "metadata": {},
   "source": [
    "We should also check for any NaN values to ensure we don't run into any issues during our statistical analysis."
   ]
  },
  {
   "cell_type": "code",
   "execution_count": 879,
   "id": "63a45d73",
   "metadata": {},
   "outputs": [
    {
     "data": {
      "text/plain": [
       "State                           0\n",
       "District                        0\n",
       "SC Students                     0\n",
       "ST Students                     0\n",
       "OBC Students                    0\n",
       "Primary Classrooms              0\n",
       "Primary Schools                 0\n",
       "Primary Teachers                0\n",
       "CDR                             0\n",
       "CDR_lower                       0\n",
       "CDR_upper                       0\n",
       "Primary Enrollment              0\n",
       "Qualified Teachers Percent      0\n",
       "General                         0\n",
       "Non-General Percent             0\n",
       "Students per school             0\n",
       "Electricity Access Percent      0\n",
       "Computer Access Percent         0\n",
       "Playground Access Percent       0\n",
       "STR under 30 Percent            0\n",
       "Classrooms in Good Condition    0\n",
       "dtype: int64"
      ]
     },
     "execution_count": 879,
     "metadata": {},
     "output_type": "execute_result"
    }
   ],
   "source": [
    "india_df.isnull().sum()"
   ]
  },
  {
   "cell_type": "markdown",
   "id": "a49168bb",
   "metadata": {},
   "source": [
    "It looks like we do not have any NaN values!"
   ]
  },
  {
   "cell_type": "markdown",
   "id": "4beda4cb",
   "metadata": {},
   "source": [
    "**High-level analysis on india_df**"
   ]
  },
  {
   "cell_type": "code",
   "execution_count": 880,
   "id": "cfabbe48",
   "metadata": {
    "scrolled": true
   },
   "outputs": [
    {
     "data": {
      "text/html": [
       "<div>\n",
       "<style scoped>\n",
       "    .dataframe tbody tr th:only-of-type {\n",
       "        vertical-align: middle;\n",
       "    }\n",
       "\n",
       "    .dataframe tbody tr th {\n",
       "        vertical-align: top;\n",
       "    }\n",
       "\n",
       "    .dataframe thead th {\n",
       "        text-align: right;\n",
       "    }\n",
       "</style>\n",
       "<table border=\"1\" class=\"dataframe\">\n",
       "  <thead>\n",
       "    <tr style=\"text-align: right;\">\n",
       "      <th></th>\n",
       "      <th>SC Students</th>\n",
       "      <th>ST Students</th>\n",
       "      <th>OBC Students</th>\n",
       "      <th>Primary Classrooms</th>\n",
       "      <th>Primary Schools</th>\n",
       "      <th>Primary Teachers</th>\n",
       "      <th>CDR</th>\n",
       "      <th>CDR_lower</th>\n",
       "      <th>CDR_upper</th>\n",
       "      <th>Primary Enrollment</th>\n",
       "      <th>Qualified Teachers Percent</th>\n",
       "      <th>General</th>\n",
       "      <th>Non-General Percent</th>\n",
       "      <th>Students per school</th>\n",
       "      <th>Electricity Access Percent</th>\n",
       "      <th>Computer Access Percent</th>\n",
       "      <th>Playground Access Percent</th>\n",
       "      <th>STR under 30 Percent</th>\n",
       "      <th>Classrooms in Good Condition</th>\n",
       "    </tr>\n",
       "  </thead>\n",
       "  <tbody>\n",
       "    <tr>\n",
       "      <th>count</th>\n",
       "      <td>256.000000</td>\n",
       "      <td>256.000000</td>\n",
       "      <td>256.000000</td>\n",
       "      <td>256.000000</td>\n",
       "      <td>256.000000</td>\n",
       "      <td>256.000000</td>\n",
       "      <td>256.000000</td>\n",
       "      <td>256.000000</td>\n",
       "      <td>256.000000</td>\n",
       "      <td>256.000000</td>\n",
       "      <td>256.000000</td>\n",
       "      <td>256.000000</td>\n",
       "      <td>256.000000</td>\n",
       "      <td>256.000000</td>\n",
       "      <td>256.000000</td>\n",
       "      <td>256.000000</td>\n",
       "      <td>256.000000</td>\n",
       "      <td>256.000000</td>\n",
       "      <td>256.000000</td>\n",
       "    </tr>\n",
       "    <tr>\n",
       "      <th>mean</th>\n",
       "      <td>56003.960938</td>\n",
       "      <td>23690.582031</td>\n",
       "      <td>130909.425781</td>\n",
       "      <td>6009.558594</td>\n",
       "      <td>1632.441406</td>\n",
       "      <td>4818.421875</td>\n",
       "      <td>7.470859</td>\n",
       "      <td>6.881758</td>\n",
       "      <td>8.064414</td>\n",
       "      <td>256226.074219</td>\n",
       "      <td>0.629064</td>\n",
       "      <td>45622.105469</td>\n",
       "      <td>0.812266</td>\n",
       "      <td>171.679208</td>\n",
       "      <td>0.250176</td>\n",
       "      <td>0.047082</td>\n",
       "      <td>0.493435</td>\n",
       "      <td>0.510380</td>\n",
       "      <td>0.755863</td>\n",
       "    </tr>\n",
       "    <tr>\n",
       "      <th>std</th>\n",
       "      <td>51654.668891</td>\n",
       "      <td>35812.312108</td>\n",
       "      <td>108709.779997</td>\n",
       "      <td>3656.430702</td>\n",
       "      <td>754.608568</td>\n",
       "      <td>2699.507607</td>\n",
       "      <td>1.492069</td>\n",
       "      <td>1.395769</td>\n",
       "      <td>1.604587</td>\n",
       "      <td>166564.804457</td>\n",
       "      <td>0.226167</td>\n",
       "      <td>44490.225225</td>\n",
       "      <td>0.168559</td>\n",
       "      <td>110.505910</td>\n",
       "      <td>0.203455</td>\n",
       "      <td>0.044920</td>\n",
       "      <td>0.236735</td>\n",
       "      <td>0.305656</td>\n",
       "      <td>0.104832</td>\n",
       "    </tr>\n",
       "    <tr>\n",
       "      <th>min</th>\n",
       "      <td>1121.000000</td>\n",
       "      <td>0.000000</td>\n",
       "      <td>464.000000</td>\n",
       "      <td>729.000000</td>\n",
       "      <td>243.000000</td>\n",
       "      <td>771.000000</td>\n",
       "      <td>4.100000</td>\n",
       "      <td>3.800000</td>\n",
       "      <td>4.400000</td>\n",
       "      <td>23953.000000</td>\n",
       "      <td>0.001760</td>\n",
       "      <td>1092.000000</td>\n",
       "      <td>0.095513</td>\n",
       "      <td>32.823746</td>\n",
       "      <td>0.014829</td>\n",
       "      <td>0.000000</td>\n",
       "      <td>0.073316</td>\n",
       "      <td>0.000000</td>\n",
       "      <td>0.428190</td>\n",
       "    </tr>\n",
       "    <tr>\n",
       "      <th>25%</th>\n",
       "      <td>18332.000000</td>\n",
       "      <td>1230.250000</td>\n",
       "      <td>52896.500000</td>\n",
       "      <td>3511.000000</td>\n",
       "      <td>1058.250000</td>\n",
       "      <td>2727.500000</td>\n",
       "      <td>6.300000</td>\n",
       "      <td>5.800000</td>\n",
       "      <td>6.800000</td>\n",
       "      <td>131497.500000</td>\n",
       "      <td>0.486215</td>\n",
       "      <td>16198.750000</td>\n",
       "      <td>0.795579</td>\n",
       "      <td>95.384396</td>\n",
       "      <td>0.099203</td>\n",
       "      <td>0.021555</td>\n",
       "      <td>0.292777</td>\n",
       "      <td>0.263423</td>\n",
       "      <td>0.694030</td>\n",
       "    </tr>\n",
       "    <tr>\n",
       "      <th>50%</th>\n",
       "      <td>44616.000000</td>\n",
       "      <td>9803.000000</td>\n",
       "      <td>99296.500000</td>\n",
       "      <td>5102.500000</td>\n",
       "      <td>1531.500000</td>\n",
       "      <td>4210.000000</td>\n",
       "      <td>7.470000</td>\n",
       "      <td>6.800000</td>\n",
       "      <td>8.005000</td>\n",
       "      <td>211598.000000</td>\n",
       "      <td>0.662942</td>\n",
       "      <td>33506.500000</td>\n",
       "      <td>0.861817</td>\n",
       "      <td>142.459727</td>\n",
       "      <td>0.188718</td>\n",
       "      <td>0.031633</td>\n",
       "      <td>0.468828</td>\n",
       "      <td>0.557627</td>\n",
       "      <td>0.773418</td>\n",
       "    </tr>\n",
       "    <tr>\n",
       "      <th>75%</th>\n",
       "      <td>77074.250000</td>\n",
       "      <td>33921.500000</td>\n",
       "      <td>181658.000000</td>\n",
       "      <td>7586.250000</td>\n",
       "      <td>2097.250000</td>\n",
       "      <td>6012.000000</td>\n",
       "      <td>8.500000</td>\n",
       "      <td>7.892500</td>\n",
       "      <td>9.170000</td>\n",
       "      <td>338062.500000</td>\n",
       "      <td>0.818427</td>\n",
       "      <td>58795.750000</td>\n",
       "      <td>0.902799</td>\n",
       "      <td>211.124161</td>\n",
       "      <td>0.337070</td>\n",
       "      <td>0.055910</td>\n",
       "      <td>0.680497</td>\n",
       "      <td>0.775331</td>\n",
       "      <td>0.831568</td>\n",
       "    </tr>\n",
       "    <tr>\n",
       "      <th>max</th>\n",
       "      <td>315465.000000</td>\n",
       "      <td>221303.000000</td>\n",
       "      <td>602468.000000</td>\n",
       "      <td>18730.000000</td>\n",
       "      <td>3799.000000</td>\n",
       "      <td>15225.000000</td>\n",
       "      <td>12.100000</td>\n",
       "      <td>10.770000</td>\n",
       "      <td>13.430000</td>\n",
       "      <td>867927.000000</td>\n",
       "      <td>1.000000</td>\n",
       "      <td>286727.000000</td>\n",
       "      <td>0.986595</td>\n",
       "      <td>533.113557</td>\n",
       "      <td>0.989889</td>\n",
       "      <td>0.287589</td>\n",
       "      <td>1.000000</td>\n",
       "      <td>0.988095</td>\n",
       "      <td>0.990701</td>\n",
       "    </tr>\n",
       "  </tbody>\n",
       "</table>\n",
       "</div>"
      ],
      "text/plain": [
       "         SC Students    ST Students   OBC Students  Primary Classrooms  \\\n",
       "count     256.000000     256.000000     256.000000          256.000000   \n",
       "mean    56003.960938   23690.582031  130909.425781         6009.558594   \n",
       "std     51654.668891   35812.312108  108709.779997         3656.430702   \n",
       "min      1121.000000       0.000000     464.000000          729.000000   \n",
       "25%     18332.000000    1230.250000   52896.500000         3511.000000   \n",
       "50%     44616.000000    9803.000000   99296.500000         5102.500000   \n",
       "75%     77074.250000   33921.500000  181658.000000         7586.250000   \n",
       "max    315465.000000  221303.000000  602468.000000        18730.000000   \n",
       "\n",
       "       Primary Schools  Primary Teachers         CDR   CDR_lower   CDR_upper  \\\n",
       "count       256.000000        256.000000  256.000000  256.000000  256.000000   \n",
       "mean       1632.441406       4818.421875    7.470859    6.881758    8.064414   \n",
       "std         754.608568       2699.507607    1.492069    1.395769    1.604587   \n",
       "min         243.000000        771.000000    4.100000    3.800000    4.400000   \n",
       "25%        1058.250000       2727.500000    6.300000    5.800000    6.800000   \n",
       "50%        1531.500000       4210.000000    7.470000    6.800000    8.005000   \n",
       "75%        2097.250000       6012.000000    8.500000    7.892500    9.170000   \n",
       "max        3799.000000      15225.000000   12.100000   10.770000   13.430000   \n",
       "\n",
       "       Primary Enrollment  Qualified Teachers Percent        General  \\\n",
       "count          256.000000                  256.000000     256.000000   \n",
       "mean        256226.074219                    0.629064   45622.105469   \n",
       "std         166564.804457                    0.226167   44490.225225   \n",
       "min          23953.000000                    0.001760    1092.000000   \n",
       "25%         131497.500000                    0.486215   16198.750000   \n",
       "50%         211598.000000                    0.662942   33506.500000   \n",
       "75%         338062.500000                    0.818427   58795.750000   \n",
       "max         867927.000000                    1.000000  286727.000000   \n",
       "\n",
       "       Non-General Percent  Students per school  Electricity Access Percent  \\\n",
       "count           256.000000           256.000000                  256.000000   \n",
       "mean              0.812266           171.679208                    0.250176   \n",
       "std               0.168559           110.505910                    0.203455   \n",
       "min               0.095513            32.823746                    0.014829   \n",
       "25%               0.795579            95.384396                    0.099203   \n",
       "50%               0.861817           142.459727                    0.188718   \n",
       "75%               0.902799           211.124161                    0.337070   \n",
       "max               0.986595           533.113557                    0.989889   \n",
       "\n",
       "       Computer Access Percent  Playground Access Percent  \\\n",
       "count               256.000000                 256.000000   \n",
       "mean                  0.047082                   0.493435   \n",
       "std                   0.044920                   0.236735   \n",
       "min                   0.000000                   0.073316   \n",
       "25%                   0.021555                   0.292777   \n",
       "50%                   0.031633                   0.468828   \n",
       "75%                   0.055910                   0.680497   \n",
       "max                   0.287589                   1.000000   \n",
       "\n",
       "       STR under 30 Percent  Classrooms in Good Condition  \n",
       "count            256.000000                    256.000000  \n",
       "mean               0.510380                      0.755863  \n",
       "std                0.305656                      0.104832  \n",
       "min                0.000000                      0.428190  \n",
       "25%                0.263423                      0.694030  \n",
       "50%                0.557627                      0.773418  \n",
       "75%                0.775331                      0.831568  \n",
       "max                0.988095                      0.990701  "
      ]
     },
     "execution_count": 880,
     "metadata": {},
     "output_type": "execute_result"
    }
   ],
   "source": [
    "india_df.describe()"
   ]
  },
  {
   "cell_type": "markdown",
   "id": "2634eb15",
   "metadata": {},
   "source": [
    "While we'll explore these variables more deeply below, some interesting observations thus far are:\n",
    "- on average, only 4% of schools in each district represented in this dataset have computer access\n",
    "- on average, 52% of schools in a district have over a 30:1 student-teacher ratio\n",
    "- on average, 63% of teachers in a district are qualified (has a Bachelor's degree or above)\n",
    "- the average school in this dataset has 81% non-General caste students \n",
    "- the average morality rate of all districts is 7.47 per 1000 people"
   ]
  },
  {
   "cell_type": "markdown",
   "id": "4c7c0d9c",
   "metadata": {},
   "source": [
    "Next, we move onto exploring what mortality looks like in India"
   ]
  },
  {
   "cell_type": "markdown",
   "id": "69481871",
   "metadata": {},
   "source": [
    "### Exploring mortality in India"
   ]
  },
  {
   "cell_type": "markdown",
   "id": "1150b7b2",
   "metadata": {},
   "source": [
    "First, we can look at the spread of mortality rates in India. To do this, we can arrange the values in ascending order and include 95% confidence intervals (included in dataset). "
   ]
  },
  {
   "cell_type": "markdown",
   "id": "0f1c602a",
   "metadata": {},
   "source": [
    "We found the US's 2012 mortality rate here: [Centers for Disease Control and Prevention]( https://www.cdc.gov/nchs/products/databriefs/db168.htm)."
   ]
  },
  {
   "cell_type": "code",
   "execution_count": 881,
   "id": "e22f12cb",
   "metadata": {
    "scrolled": false
   },
   "outputs": [
    {
     "data": {
      "image/png": "[encoded data removed]",
      "text/plain": [
       "<Figure size 432x288 with 1 Axes>"
      ]
     },
     "metadata": {
      "needs_background": "light"
     },
     "output_type": "display_data"
    }
   ],
   "source": [
    "# sorting india_df based on mortality rate in ascending order\n",
    "cdr_sorted = india_df.sort_values('CDR')\n",
    "\n",
    "# defining the axes\n",
    "x = cdr_sorted['District']\n",
    "y = cdr_sorted['CDR']\n",
    "\n",
    "# defining the confidence interval values\n",
    "z1 = cdr_sorted['CDR_upper']\n",
    "z2 = cdr_sorted['CDR_lower']\n",
    "\n",
    "# plot x and y\n",
    "plt.plot(x,y)\n",
    "\n",
    "# display US and India avg mortality rate (aka crude death rate)\n",
    "plt.axhline(y=india_df['CDR'].mean(), label = '2012 India Avg Crude Death Rate', color='r', linestyle='-')\n",
    "plt.axhline(y=7.32, label = '2012 US Avg Crude Death Rate', color='g', linestyle='-')\n",
    "\n",
    "# remove x-axis parameters\n",
    "plt.tick_params(axis = 'x', which = 'both', bottom = False, top = False, labelbottom = False)\n",
    "\n",
    "# include a legend\n",
    "plt.legend()\n",
    "\n",
    "# fill in confidence interval\n",
    "plt.fill_between(x, z1, z2, color='blue', alpha=0.1)\n",
    "\n",
    "# add title\n",
    "plt.title('Spread of District Mortality Rates in India')\n",
    "\n",
    "# show plot\n",
    "plt.show()"
   ]
  },
  {
   "cell_type": "markdown",
   "id": "6d67d3ee",
   "metadata": {},
   "source": [
    "We can see that almost half of the districts in this dataset have a mortality rate over the average mortality rate of both the US and India. On top of that, there seems to be wide range of mortality rates, from as low as 4.1 per 1000 people to 12.1 per 1000 people. There also tends to be a sharp increase towards the beginning and end of the spread, meaning there are only a few with very low or very high mortality rates."
   ]
  },
  {
   "cell_type": "markdown",
   "id": "d97b7b1b",
   "metadata": {},
   "source": [
    "Another interesting visualization that would help us understand mortality rates in India would be a map of India color-coded by mortality rate."
   ]
  },
  {
   "cell_type": "markdown",
   "id": "63978335",
   "metadata": {},
   "source": [
    "**India Map and Mortality Visualization**"
   ]
  },
  {
   "cell_type": "code",
   "execution_count": 882,
   "id": "417a7290",
   "metadata": {
    "scrolled": false
   },
   "outputs": [
    {
     "data": {
      "text/html": [
       "<div>\n",
       "<style scoped>\n",
       "    .dataframe tbody tr th:only-of-type {\n",
       "        vertical-align: middle;\n",
       "    }\n",
       "\n",
       "    .dataframe tbody tr th {\n",
       "        vertical-align: top;\n",
       "    }\n",
       "\n",
       "    .dataframe thead th {\n",
       "        text-align: right;\n",
       "    }\n",
       "</style>\n",
       "<table border=\"1\" class=\"dataframe\">\n",
       "  <thead>\n",
       "    <tr style=\"text-align: right;\">\n",
       "      <th></th>\n",
       "      <th>f_code</th>\n",
       "      <th>coc</th>\n",
       "      <th>nam</th>\n",
       "      <th>District</th>\n",
       "      <th>pop</th>\n",
       "      <th>ypc</th>\n",
       "      <th>adm_code</th>\n",
       "      <th>salb</th>\n",
       "      <th>soc</th>\n",
       "      <th>geometry</th>\n",
       "    </tr>\n",
       "  </thead>\n",
       "  <tbody>\n",
       "    <tr>\n",
       "      <th>0</th>\n",
       "      <td>FA001</td>\n",
       "      <td>IND</td>\n",
       "      <td>JAMMU AND KASHMIR</td>\n",
       "      <td>Gilgit</td>\n",
       "      <td>-99999999</td>\n",
       "      <td>0</td>\n",
       "      <td>UNK</td>\n",
       "      <td>UNK</td>\n",
       "      <td>IND</td>\n",
       "      <td>POLYGON Z ((74.73719 37.02695 0.00000, 74.7445...</td>\n",
       "    </tr>\n",
       "    <tr>\n",
       "      <th>1</th>\n",
       "      <td>FA001</td>\n",
       "      <td>IND</td>\n",
       "      <td>JAMMU AND KASHMIR</td>\n",
       "      <td>Tribal Territory</td>\n",
       "      <td>-99999999</td>\n",
       "      <td>0</td>\n",
       "      <td>UNK</td>\n",
       "      <td>UNK</td>\n",
       "      <td>IND</td>\n",
       "      <td>POLYGON Z ((73.13781 35.81256 0.00000, 73.1441...</td>\n",
       "    </tr>\n",
       "    <tr>\n",
       "      <th>2</th>\n",
       "      <td>FA001</td>\n",
       "      <td>IND</td>\n",
       "      <td>JAMMU AND KASHMIR</td>\n",
       "      <td>Gilgit Wazarat</td>\n",
       "      <td>-99999999</td>\n",
       "      <td>0</td>\n",
       "      <td>UNK</td>\n",
       "      <td>UNK</td>\n",
       "      <td>IND</td>\n",
       "      <td>POLYGON Z ((75.13574 34.89415 0.00000, 75.0727...</td>\n",
       "    </tr>\n",
       "    <tr>\n",
       "      <th>3</th>\n",
       "      <td>FA001</td>\n",
       "      <td>IND</td>\n",
       "      <td>JAMMU AND KASHMIR</td>\n",
       "      <td>Chilas</td>\n",
       "      <td>-99999999</td>\n",
       "      <td>0</td>\n",
       "      <td>UNK</td>\n",
       "      <td>UNK</td>\n",
       "      <td>IND</td>\n",
       "      <td>POLYGON Z ((74.18809 35.66722 0.00000, 74.2342...</td>\n",
       "    </tr>\n",
       "    <tr>\n",
       "      <th>4</th>\n",
       "      <td>FA001</td>\n",
       "      <td>IND</td>\n",
       "      <td>JAMMU AND KASHMIR</td>\n",
       "      <td>Muzaffarabad</td>\n",
       "      <td>-99999999</td>\n",
       "      <td>0</td>\n",
       "      <td>UNK</td>\n",
       "      <td>UNK</td>\n",
       "      <td>IND</td>\n",
       "      <td>POLYGON Z ((74.08553 35.07817 0.00000, 74.0961...</td>\n",
       "    </tr>\n",
       "  </tbody>\n",
       "</table>\n",
       "</div>"
      ],
      "text/plain": [
       "  f_code  coc                nam          District       pop  ypc adm_code  \\\n",
       "0  FA001  IND  JAMMU AND KASHMIR            Gilgit -99999999    0      UNK   \n",
       "1  FA001  IND  JAMMU AND KASHMIR  Tribal Territory -99999999    0      UNK   \n",
       "2  FA001  IND  JAMMU AND KASHMIR    Gilgit Wazarat -99999999    0      UNK   \n",
       "3  FA001  IND  JAMMU AND KASHMIR            Chilas -99999999    0      UNK   \n",
       "4  FA001  IND  JAMMU AND KASHMIR      Muzaffarabad -99999999    0      UNK   \n",
       "\n",
       "  salb  soc                                           geometry  \n",
       "0  UNK  IND  POLYGON Z ((74.73719 37.02695 0.00000, 74.7445...  \n",
       "1  UNK  IND  POLYGON Z ((73.13781 35.81256 0.00000, 73.1441...  \n",
       "2  UNK  IND  POLYGON Z ((75.13574 34.89415 0.00000, 75.0727...  \n",
       "3  UNK  IND  POLYGON Z ((74.18809 35.66722 0.00000, 74.2342...  \n",
       "4  UNK  IND  POLYGON Z ((74.08553 35.07817 0.00000, 74.0961...  "
      ]
     },
     "execution_count": 882,
     "metadata": {},
     "output_type": "execute_result"
    }
   ],
   "source": [
    "# load shapefile\n",
    "fp = 'india_map/polbnda_ind.shp'\n",
    "map_df = gpd.read_file(fp) \n",
    "\n",
    "# format district column to match with india_df\n",
    "map_df = map_df.rename(columns={'laa':'District'})\n",
    "map_df['District'] = map_df['District'].apply(lambda x: string.capwords(x))\n",
    "\n",
    "# display map_df\n",
    "map_df.head()"
   ]
  },
  {
   "cell_type": "code",
   "execution_count": 883,
   "id": "6ab0b87e",
   "metadata": {},
   "outputs": [
    {
     "data": {
      "image/png": "[encoded data removed]",
      "text/plain": [
       "<Figure size 720x720 with 2 Axes>"
      ]
     },
     "metadata": {
      "needs_background": "light"
     },
     "output_type": "display_data"
    }
   ],
   "source": [
    "# isolate district and cdr columns of moe_df\n",
    "mortality_df = india_df[['District', 'CDR']]\n",
    "\n",
    "# merge visualization\n",
    "visualization_df = map_df.merge(mortality_df, on=['District'], how='left')\n",
    "\n",
    "# fill NaN values with 0\n",
    "visualization_df['CDR'] = visualization_df['CDR'].fillna(0)\n",
    "\n",
    "# prepare plot\n",
    "fig, ax = plt.subplots(1, figsize=(10, 10))\n",
    "ax.axis('off')\n",
    "visualization_df.plot(column='CDR',cmap='gist_heat_r', linewidth=0.8, ax=ax, edgecolor='0.7',legend=True,\n",
    "       markersize=[39.739192, -104.990337], legend_kwds={'label': \"Number of landslides\"})\n",
    "\n",
    "# display plot\n",
    "plt.show()"
   ]
  },
  {
   "cell_type": "markdown",
   "id": "f3332d25",
   "metadata": {},
   "source": [
    "There tends to be some clusters, meaning that districts with lower mortality rates tend to be next to other districts with lower mortality rates. For example, near the middle, we see multiple districts with dark shades and towards the right, we see districts with an orange shade (indicating mortality rates of 4 to 5 per 1000 people). "
   ]
  },
  {
   "cell_type": "markdown",
   "id": "23842806",
   "metadata": {},
   "source": [
    "As mentioned above, this map also shows a clear limitation of the surveys: we don't have information on most Southern districts, some on the Eastern side of India, and some on the Northern end. The districts represented in the dataset tend to located in Central India, which is something we need to consider as we do more analysis and begin making conclusions based on our findings."
   ]
  },
  {
   "cell_type": "markdown",
   "id": "2a5f2453",
   "metadata": {},
   "source": [
    "**Percentage of Non-General Caste Students and Mortality Rate**"
   ]
  },
  {
   "cell_type": "markdown",
   "id": "f299758f",
   "metadata": {},
   "source": [
    "Another interesting relationship we want to explore is between the percentage of non-general caste students in a district and the mortality rate of that district. Really, we are asking the question: does an increase an students of underpriledged castes predict mortality rates?"
   ]
  },
  {
   "cell_type": "markdown",
   "id": "8939853e",
   "metadata": {},
   "source": [
    "To do this, we can use a scatter plot to see if there is some sort of relationship."
   ]
  },
  {
   "cell_type": "code",
   "execution_count": 884,
   "id": "6ff6af15",
   "metadata": {
    "scrolled": true
   },
   "outputs": [
    {
     "data": {
      "image/png": "[encoded data removed]",
      "text/plain": [
       "<Figure size 432x288 with 1 Axes>"
      ]
     },
     "metadata": {
      "needs_background": "light"
     },
     "output_type": "display_data"
    }
   ],
   "source": [
    "# define x as percentage of non-general caste students and y as mortality rate\n",
    "x = india_df['Non-General Percent']\n",
    "y = india_df['CDR']\n",
    "\n",
    "# prep scatter plot\n",
    "plt.scatter(x=x, y=y)\n",
    "\n",
    "# add axis labels\n",
    "plt.xlabel('% of non-general caste students')\n",
    "plt.ylabel('Mortality rate')\n",
    "\n",
    "# add title\n",
    "plt.title('Percentage of Non-General Caste Students and Mortality Rate')\n",
    "\n",
    "# display plot\n",
    "plt.show()"
   ]
  },
  {
   "cell_type": "markdown",
   "id": "9a8fbd78",
   "metadata": {},
   "source": [
    "There does not appear to be a relationship visually. This also might have to do with limitation in data collection methods of the surveys used to create our dataframe. Looking at the points, most points tend to be in x > 0.7 meaning that most data points are for districts where the percentage of non-General caste students are above 70%. "
   ]
  },
  {
   "cell_type": "markdown",
   "id": "5f37d593",
   "metadata": {},
   "source": [
    "This is definitely a relationship we want to explore more."
   ]
  },
  {
   "cell_type": "markdown",
   "id": "5c948e06",
   "metadata": {},
   "source": [
    "Another relationship that could be interesting is between access to computers and mortality rates."
   ]
  },
  {
   "cell_type": "markdown",
   "id": "a6d09990",
   "metadata": {},
   "source": [
    "**Percentage of Schools with Computer Access and Mortality Rate**"
   ]
  },
  {
   "cell_type": "markdown",
   "id": "a0aef5b9",
   "metadata": {},
   "source": [
    "What we're asking is: does access to computer predict mortality rates? We can use a scatter plot to visualize this relationship."
   ]
  },
  {
   "cell_type": "code",
   "execution_count": 885,
   "id": "16177569",
   "metadata": {},
   "outputs": [
    {
     "data": {
      "image/png": "[encoded data removed]",
      "text/plain": [
       "<Figure size 432x288 with 1 Axes>"
      ]
     },
     "metadata": {
      "needs_background": "light"
     },
     "output_type": "display_data"
    }
   ],
   "source": [
    "# define x as % of schools that have access to computers and y as mortality rate\n",
    "x = india_df['Computer Access Percent']\n",
    "y = india_df['CDR']\n",
    "\n",
    "# prep scatter plot\n",
    "plt.scatter(x=x, y=y)\n",
    "\n",
    "# add axis labels\n",
    "plt.xlabel('% of schools with access to computers')\n",
    "plt.ylabel('Mortality rate')\n",
    "\n",
    "# add title\n",
    "plt.title('Percentage of Schools with Computer Access and Mortality Rate')\n",
    "\n",
    "# display plot\n",
    "plt.show()"
   ]
  },
  {
   "cell_type": "markdown",
   "id": "fc50e11d",
   "metadata": {},
   "source": [
    "There appears to be some sort of downward trend between these variables. Logically, this is what we would expect. Districts where more schools have computer access seem to have lower mortality rates.  "
   ]
  },
  {
   "cell_type": "markdown",
   "id": "ff7043c5",
   "metadata": {},
   "source": [
    "## Exploring education in India"
   ]
  },
  {
   "cell_type": "markdown",
   "id": "9bae6ec9",
   "metadata": {},
   "source": [
    "We are interested in knowing how diverse our dataset is in terms of the percent of non-general caste students compared to all students. This will help us understand if students in our dataset tend to be General caste students or one of the underprivileged castes."
   ]
  },
  {
   "cell_type": "markdown",
   "id": "8bdf9e41",
   "metadata": {},
   "source": [
    "**Spread of percent of non-general caste students**"
   ]
  },
  {
   "cell_type": "code",
   "execution_count": 886,
   "id": "57e001e4",
   "metadata": {},
   "outputs": [
    {
     "data": {
      "image/png": "[encoded data removed]",
      "text/plain": [
       "<Figure size 432x288 with 1 Axes>"
      ]
     },
     "metadata": {
      "needs_background": "light"
     },
     "output_type": "display_data"
    }
   ],
   "source": [
    "# define x as districts and y as % of non-general caste students\n",
    "x = india_df['District']\n",
    "y = india_df['Non-General Percent']\n",
    "\n",
    "# prep scatter plot\n",
    "plt.scatter(x=x, y=y)\n",
    "\n",
    "# add axis labels\n",
    "plt.xlabel('Districts')\n",
    "plt.ylabel('% of non-general caste students')\n",
    "\n",
    "# hide x-axis ticks\n",
    "plt.tick_params(axis = 'x', which = 'both', bottom = False, top = False, labelbottom = False)\n",
    "\n",
    "# add title\n",
    "plt.title('Percentage of Schools with Computer Access and Mortality Rate')\n",
    "\n",
    "# display plot\n",
    "plt.show()"
   ]
  },
  {
   "cell_type": "markdown",
   "id": "ad5edb8c",
   "metadata": {},
   "source": [
    "Evidently, most data points tend to be where y > 0.7, meaning that most districts have more than 70% students in a non-General caste."
   ]
  },
  {
   "cell_type": "markdown",
   "id": "3801d682",
   "metadata": {},
   "source": [
    "We are also interested in how the spread of student-teacher ratios (STR)."
   ]
  },
  {
   "cell_type": "markdown",
   "id": "dfe2afd3",
   "metadata": {},
   "source": [
    "**Spread of % of schools under a 30:1 STR**"
   ]
  },
  {
   "cell_type": "code",
   "execution_count": 900,
   "id": "bbfad20b",
   "metadata": {},
   "outputs": [
    {
     "data": {
      "image/png": "[encoded data removed]",
      "text/plain": [
       "<Figure size 432x288 with 1 Axes>"
      ]
     },
     "metadata": {
      "needs_background": "light"
     },
     "output_type": "display_data"
    }
   ],
   "source": [
    "# define x as districts and y as % of schools above a 30:1 STR\n",
    "x = india_df['District']\n",
    "y = india_df['STR under 30 Percent']\n",
    "\n",
    "# prep scatter plot\n",
    "plt.scatter(x=x, y=y)\n",
    "\n",
    "# add axis labels\n",
    "plt.xlabel('Districts')\n",
    "plt.ylabel('% of schools under a 30:1 STR')\n",
    "\n",
    "# hide x-axis ticks\n",
    "plt.tick_params(axis = 'x', which = 'both', bottom = False, top = False, labelbottom = False)\n",
    "\n",
    "# add title\n",
    "plt.title('Spread of schools with under 30:1 STR')\n",
    "\n",
    "# display plot\n",
    "plt.show()"
   ]
  },
  {
   "cell_type": "markdown",
   "id": "b700f77f",
   "metadata": {},
   "source": [
    "Looking at this graph, we can easily see a wide spread of values from close to 0% to 100%. This is somewhat expected as we expect there to be districts with a large percentage of schools with bad student-teacher ratios and also the opposite. "
   ]
  },
  {
   "cell_type": "markdown",
   "id": "6e1765e2",
   "metadata": {},
   "source": [
    "We are also interested in looking at the spread of the percent of qualified teachers over all teachers in each district."
   ]
  },
  {
   "cell_type": "markdown",
   "id": "ad7e9b84",
   "metadata": {},
   "source": [
    "**Spread of percent of qualified teachers**"
   ]
  },
  {
   "cell_type": "code",
   "execution_count": 888,
   "id": "59ee8b68",
   "metadata": {},
   "outputs": [
    {
     "data": {
      "image/png": "[encoded data removed]",
      "text/plain": [
       "<Figure size 432x288 with 1 Axes>"
      ]
     },
     "metadata": {
      "needs_background": "light"
     },
     "output_type": "display_data"
    }
   ],
   "source": [
    "# define x as districts and y as % of qualified teachers\n",
    "x = india_df['District']\n",
    "y = india_df['Qualified Teachers Percent']\n",
    "\n",
    "# prep scatter plot\n",
    "plt.scatter(x=x, y=y)\n",
    "\n",
    "# add axis labels\n",
    "plt.xlabel('Districts')\n",
    "plt.ylabel('% of qualified teachers')\n",
    "\n",
    "# hide x-axis ticks\n",
    "plt.tick_params(axis = 'x', which = 'both', bottom = False, top = False, labelbottom = False)\n",
    "\n",
    "# add title\n",
    "plt.title('Spread of % of qualified teachers')\n",
    "\n",
    "# display plot\n",
    "plt.show()"
   ]
  },
  {
   "cell_type": "markdown",
   "id": "69482c3f",
   "metadata": {},
   "source": [
    "We can see a few clusters emerging in the scatter plot above. It appears that there is a decent spread of the percentage of qualified teachers in each district. Some districts have as low as 20% of teachers are qualified, while a significant amount have over 70% qualified teachers. "
   ]
  },
  {
   "cell_type": "markdown",
   "id": "85fd9f24",
   "metadata": {},
   "source": [
    "We are also interested in the spread of the percent of classrooms in good conditions. "
   ]
  },
  {
   "cell_type": "markdown",
   "id": "84589f0a",
   "metadata": {},
   "source": [
    "**Spread of percent of classrooms in good condition**"
   ]
  },
  {
   "cell_type": "code",
   "execution_count": 889,
   "id": "e4616ecd",
   "metadata": {
    "scrolled": true
   },
   "outputs": [
    {
     "data": {
      "image/png": "[encoded data removed]",
      "text/plain": [
       "<Figure size 432x288 with 1 Axes>"
      ]
     },
     "metadata": {
      "needs_background": "light"
     },
     "output_type": "display_data"
    }
   ],
   "source": [
    "# define x as districts and y as % of classrooms in good condition\n",
    "x = india_df['District']\n",
    "y = india_df['Classrooms in Good Condition']\n",
    "\n",
    "# prep scatter plot\n",
    "plt.scatter(x=x, y=y)\n",
    "\n",
    "# add axis labels\n",
    "plt.xlabel('Districts')\n",
    "plt.ylabel('% of classrooms in good condition')\n",
    "\n",
    "# hide x-axis ticks\n",
    "plt.tick_params(axis = 'x', which = 'both', bottom = False, top = False, labelbottom = False)\n",
    "\n",
    "# add title\n",
    "plt.title('Spread of % of classrooms in good condition')\n",
    "\n",
    "# display plot\n",
    "plt.show()"
   ]
  },
  {
   "cell_type": "markdown",
   "id": "c42f9d0a",
   "metadata": {},
   "source": [
    "From this scatter plot, we see a wide spread of percentages. Only a few points lie below y = 0.5 (50% of schools in the district have classrooms in good condition), which is a good signifier for the quality of education in India."
   ]
  },
  {
   "cell_type": "markdown",
   "id": "57f5f40c",
   "metadata": {},
   "source": [
    "Another thing that might be interesting is to see the diversity of our dataset related to the the percent of schools that have access to electricity, computers, and playgrounds."
   ]
  },
  {
   "cell_type": "markdown",
   "id": "dd0e07cb",
   "metadata": {},
   "source": [
    "**Percent of schools with access to educational resources (computers, electricity, and playgrounds)**"
   ]
  },
  {
   "cell_type": "code",
   "execution_count": 890,
   "id": "5b6d368b",
   "metadata": {},
   "outputs": [
    {
     "data": {
      "image/png": "[encoded data removed]",
      "text/plain": [
       "<Figure size 432x288 with 1 Axes>"
      ]
     },
     "metadata": {
      "needs_background": "light"
     },
     "output_type": "display_data"
    }
   ],
   "source": [
    "# prep scatter plot\n",
    "plt.scatter(x = india_df['District'], y = india_df['Electricity Access Percent'], label = 'Electricity Access')\n",
    "plt.scatter(x = india_df['District'], y = india_df['Computer Access Percent'], label = 'Computer Access')\n",
    "plt.scatter(x = india_df['District'], y = india_df['Playground Access Percent'], label = 'Playground Access')\n",
    "\n",
    "# add axis labels\n",
    "plt.xlabel('Districts')\n",
    "plt.ylabel('% of non-general caste students')\n",
    "\n",
    "# display legend\n",
    "plt.legend(bbox_to_anchor=(1.03, 1))\n",
    "\n",
    "# hide x-axis ticks\n",
    "plt.tick_params(axis = 'x', which = 'both', bottom = False, top = False, labelbottom = False)\n",
    "\n",
    "# add title\n",
    "plt.title('% of Schools with Access to Educational Resources (per district)')\n",
    "\n",
    "# display plot\n",
    "plt.show()"
   ]
  },
  {
   "cell_type": "markdown",
   "id": "ecb5c800",
   "metadata": {},
   "source": [
    "There are a few intersting observations based on this."
   ]
  },
  {
   "cell_type": "markdown",
   "id": "cb5056e1",
   "metadata": {},
   "source": [
    "Firstly, districts tend to be very diverse in terms of having schools that have access to playgrounds. Some districts have close to 100% of schools with playgrounds, while in some districts, only 10% of schools have playgrounds. "
   ]
  },
  {
   "cell_type": "markdown",
   "id": "363a8ff9",
   "metadata": {},
   "source": [
    "When it comes to access to electricity, there is also a fair spread of data. Some districts have close to 100% of schools with electricity, while in some districts, only 10% of schools do. However, unlike playground access, most districts tend to have between 10-40% of schools with electricity access. We only see a few points above y = 0.7 (> 70% access to electricity)."
   ]
  },
  {
   "cell_type": "markdown",
   "id": "2ad9d797",
   "metadata": {},
   "source": [
    "Lastly, the scatter plot shows that most districts only have 5-20% of schools with access to computers. In fact, there are less than 10 points above y = 0.2 (20% of schools have access to computers). Despite having electricity, very few schools have access to computers. Of course, in today's world where technology and access to technology are extremely important, a lack of access to computers is likely a significant deterant for students to succeed in many careers that require a technological background, including typing skills, ability to use software like Microsoft Office Suite, etc."
   ]
  },
  {
   "cell_type": "markdown",
   "id": "10099a84",
   "metadata": {},
   "source": [
    "**EDA conclusion**"
   ]
  },
  {
   "cell_type": "markdown",
   "id": "3b347c00",
   "metadata": {},
   "source": [
    "This exploratory analysis leads us to returning to our preregistered hypotheses to understand the impacts of caste and access to education on mortality rates in India."
   ]
  },
  {
   "cell_type": "markdown",
   "id": "56aee142",
   "metadata": {},
   "source": [
    "## 7. Statistical Analysis"
   ]
  },
  {
   "cell_type": "markdown",
   "id": "69f0e317",
   "metadata": {},
   "source": [
    "Before we analyze our hypotheses, let's create a function that will perform a regression hypothesis test on the variables and displays the regression results. This way, our analysis section below will be significantly less messy. The function will take the two variables and print the results of the hypothesis test."
   ]
  },
  {
   "cell_type": "code",
   "execution_count": 919,
   "id": "c0e7bbd0",
   "metadata": {},
   "outputs": [],
   "source": [
    "def run_regression_hypothesis_test(x_col, y_col):\n",
    "    \n",
    "    single = (type(x_col) != list)\n",
    "\n",
    "    # adding constant to linear regression model\n",
    "    x = india_df[x_col]\n",
    "    x = sm.add_constant(x)\n",
    "\n",
    "    # create our model using the inputted columns\n",
    "    model = sm.OLS(india_df[y_col], x)\n",
    "\n",
    "    # fitting our model\n",
    "    result = model.fit()\n",
    "\n",
    "    # t statistic value\n",
    "    t_stat = result.tvalues[0]\n",
    "\n",
    "    # p-value\n",
    "    p_value = result.pvalues[0]\n",
    "\n",
    "    # intercept\n",
    "    intercept = result.params[0]\n",
    "\n",
    "    # slope\n",
    "    slope = result.params[1]\n",
    "\n",
    "    # confidence intervals\n",
    "    ci_lower = result.conf_int()[0][1]\n",
    "    ci_upper = result.conf_int()[1][1]\n",
    "\n",
    "    # bool on whether or not p-value is less than 0.05\n",
    "    significance = p_value < 0.05\n",
    "    \n",
    "    # getting the appropriate string to return based on f_significance above\n",
    "    if significance:\n",
    "        test_result = 'Therefore, we reject the null hypothesis above.'\n",
    "    else:\n",
    "        test_result = 'Therefore, we fail to reject the null hypothesis above.'\n",
    "        \n",
    "    \n",
    "    # f-stat test matrix\n",
    "    A = np.identity(len(result.params))\n",
    "    A = A[1:,:]\n",
    "    \n",
    "    # run f-stat test\n",
    "    f_test_result = result.f_test(A)\n",
    "    \n",
    "    # f statistic value\n",
    "    f_value = f_test_result.fvalue\n",
    "    \n",
    "    # f statistic p-value\n",
    "    f_p_value = f_test_result.pvalue\n",
    "\n",
    "    # bool on whether or not f statistic p-value is less than 0.05\n",
    "    f_significance = f_p_value < 0.05\n",
    "    \n",
    "    # getting the appropriate string to return based on significance above\n",
    "    if f_significance:\n",
    "        f_test_result = 'Therefore, we reject the f-test null hypothesis.'\n",
    "    else:\n",
    "        f_test_result = 'Therefore, we fail to reject the f-test null hypothesis.'\n",
    "        \n",
    "\n",
    "    # printing the test results\n",
    "    print('*' * 90)\n",
    "    print('Regression Hypothesis Test: \"{}\" and \"{}\"'.format(x_col, y_col))\n",
    "    print('*' * 90)\n",
    "    print()\n",
    "    if single:\n",
    "        print('t-statistic: {}'.format(t_stat))\n",
    "        print('p-value: {}'.format(p_value))\n",
    "        print('p < 0.05: {}'.format(significance))\n",
    "        print()\n",
    "        print(test_result)\n",
    "\n",
    "    if not single:\n",
    "        print()\n",
    "        print('f-statistic: {}'.format(f_value[0][0]))\n",
    "        print('p-value: {}'.format(f_p_value))\n",
    "        print('p < 0.05: {}'.format(f_sig))\n",
    "        print()\n",
    "        print(f_test_result)\n",
    "        \n",
    "    print()\n",
    "    print('*' * 90)\n",
    "    print('Linear Regression Results: \"{}\" and \"{}\"'.format(x_col, y_col))\n",
    "    print('*' * 90)\n",
    "    print()\n",
    "        \n",
    "        \n",
    "    if not single:\n",
    "        print(result.summary())\n",
    "    \n",
    "    if single:\n",
    "        print('coef: {}'.format(slope))\n",
    "        print('CI lower bound (0.025): {}'.format(ci_lower))\n",
    "        print('CI upper bound (0.975): {}'.format(ci_upper))\n",
    "        print('intercept: {}'.format(intercept))\n",
    "        print()\n",
    "        \n",
    "        print('Estimated relationship: {} = {} * {} + {}'.format(y_col,round(slope, 4), x_col,round(intercept, 4)))"
   ]
  },
  {
   "cell_type": "markdown",
   "id": "ee8aa1c2",
   "metadata": {},
   "source": [
    "Now, let's use this function in our first hypothesis test and determine if there is a relationship between the amount of non-Genereal caste students and mortality rate."
   ]
  },
  {
   "cell_type": "markdown",
   "id": "761b7ee2",
   "metadata": {},
   "source": [
    "### Hypothesis 1"
   ]
  },
  {
   "cell_type": "markdown",
   "id": "6f1d880c",
   "metadata": {},
   "source": [
    "**Hypothesis**: Membership in one of India's marginalized caste groups predicts mortality rate."
   ]
  },
  {
   "cell_type": "markdown",
   "id": "4a60da61",
   "metadata": {},
   "source": [
    "**Null hypothesis ($H_{0}$)**: There is no relationship between % of non-General caste students and mortality rate in India ($β_{non-General students}=0$)."
   ]
  },
  {
   "cell_type": "markdown",
   "id": "c930b7b5",
   "metadata": {},
   "source": [
    "To do this, we will run a regression and regression hypothesis test between the 'Non-General Percent' feature and 'CDR' feature."
   ]
  },
  {
   "cell_type": "code",
   "execution_count": 917,
   "id": "5d26ec44",
   "metadata": {
    "scrolled": false
   },
   "outputs": [
    {
     "name": "stdout",
     "output_type": "stream",
     "text": [
      "******************************************************************************************\n",
      "Regression Hypothesis Test: \"Non-General Percent\" and \"CDR\"\n",
      "******************************************************************************************\n",
      "\n",
      "t-statistic: 13.667555067154217\n",
      "p-value: 3.0074072975880695e-32\n",
      "p < 0.05: True\n",
      "\n",
      "Therefore, we reject the null hypothesis above.\n",
      "\n",
      "******************************************************************************************\n",
      "Linear Regression Results: \"Non-General Percent\" and \"CDR\"\n",
      "******************************************************************************************\n",
      "\n",
      "coef: 1.5677995896043166\n",
      "CI lower bound (0.025): 0.49128127956005563\n",
      "CI upper bound (0.975): 2.644317899648578\n",
      "intercept: 6.197388352080068\n",
      "\n",
      "Estimated relationship: CDR = 1.5678 * Non-General Percent + 6.1974\n"
     ]
    }
   ],
   "source": [
    "run_regression_hypothesis_test('Non-General Percent', 'CDR')"
   ]
  },
  {
   "cell_type": "markdown",
   "id": "2bb08ade",
   "metadata": {},
   "source": [
    "**Test Results and Interpretations**"
   ]
  },
  {
   "cell_type": "markdown",
   "id": "311aefa0",
   "metadata": {},
   "source": [
    "Firstly, we were able to reject our null hypothesis that $β_{non-General students}=0$. Our test first found the t-statistic which was about 13.67. Based on that, the p-value was 3.0074072975880695e-32 (a very small number). Comparing the p-value to our significance level of 0.05, we found that the p-value was indeed less that the significance level. This meant that we could reject our initial null hypothesis.\n",
    "\n",
    "Given this, we can be fairly sure that there is some relationship between the percent of non-General caste students in a district and mortality rate."
   ]
  },
  {
   "cell_type": "markdown",
   "id": "535bf977",
   "metadata": {},
   "source": [
    "The next step is to identify the exact relationship between these two variables. We can do this by running a linear regression on the variables. After doing that, we see that the expressed relationship between the percent of non-General caste students in a district and mortality rate is: **CDR = 1.5678 * Non-General Percent + 6.1974**. \n",
    "\n",
    "This indicates that for every increase in the percentage of non-General caste students in a district, the expected mortality rate increases by 0.015678. \n",
    "\n",
    "Note: because the 'Non-General Percent' column is expressed as 0.54 instead of 54%, we need to divide the coefficient by 100 to get the effect of a 1% increase in non-General caste students. \n",
    "\n",
    "While the coefficient is not super big, it's interesting to see that when the percentage of non-General caste students increases, we expect the mortality rate to decrease."
   ]
  },
  {
   "cell_type": "markdown",
   "id": "fc08da4a",
   "metadata": {},
   "source": [
    "**Hypothesis is supported**"
   ]
  },
  {
   "cell_type": "markdown",
   "id": "0ac9ea8d",
   "metadata": {},
   "source": [
    "Given the tests and linear regression model's outputs above, we can be confident that the % of non-General caste students does predict mortality rate. Specifically, the estimated relationship is: CDR = 1.5678 * Non-General Percent + 6.1974.\n",
    "\n",
    "This means the membership in one of India's marginalized caste groups predicts mortality rate. In other words, **membership in one of India's marginalized social groups predicts quality of life.**"
   ]
  },
  {
   "cell_type": "markdown",
   "id": "d012b24a",
   "metadata": {},
   "source": [
    "### Hypothesis 2"
   ]
  },
  {
   "cell_type": "markdown",
   "id": "0619972f",
   "metadata": {},
   "source": [
    "**Hypothesis**: Membership in one of India's marginalized caste groups predicts access to educational resources, qualified teachers, and student-teacher ratio."
   ]
  },
  {
   "cell_type": "markdown",
   "id": "3aa7b376",
   "metadata": {},
   "source": [
    "Since his hypothesis involves understanding the relationship between the % of non-General caste students on all four types of educational resources, % of qualified teachers, and student-teacher ratio, we will do 6 single variable regressions and regression hypothesis tests."
   ]
  },
  {
   "cell_type": "markdown",
   "id": "1bfe6d7c",
   "metadata": {},
   "source": [
    "**Null hypothesis 1 ($H_{0}$)**: There is no relationship between the percent of non-General caste students and the percent of schools with access to electricity in India ($β_{non-General students}=0$)."
   ]
  },
  {
   "cell_type": "markdown",
   "id": "de6a9c91",
   "metadata": {},
   "source": [
    "We will start by running a regression and regression hypothesis test between the 'Non-General Percent' feature and 'Electricity Access Percent' feature."
   ]
  },
  {
   "cell_type": "code",
   "execution_count": 893,
   "id": "4c74faef",
   "metadata": {},
   "outputs": [
    {
     "name": "stdout",
     "output_type": "stream",
     "text": [
      "******************************************************************************************\n",
      "Regression Hypothesis Test: \"Non-General Percent\" and \"Electricity Access Percent\"\n",
      "******************************************************************************************\n",
      "\n",
      "t-statistic: 6.485541882091744\n",
      "p-value: 4.5853437473148514e-10\n",
      "p < 0.05: True\n",
      "\n",
      "Therefore, we reject the null hypothesis above.\n",
      "\n",
      "******************************************************************************************\n",
      "Linear Regression Results: \"Non-General Percent\" and \"Electricity Access Percent\"\n",
      "******************************************************************************************\n",
      "\n",
      "coef: -0.18752111580004682\n",
      "CI lower bound (0.025): -0.3348594706063512\n",
      "CI upper bound (0.975): -0.04018276099374246\n",
      "intercept: 0.40249319552905316\n",
      "\n",
      "Estimated relationship: Electricity Access Percent = -0.1875 * Non-General Percent + 0.4025\n"
     ]
    }
   ],
   "source": [
    "run_regression_hypothesis_test('Non-General Percent', 'Electricity Access Percent')"
   ]
  },
  {
   "cell_type": "markdown",
   "id": "9daa7921",
   "metadata": {},
   "source": [
    "**Test Results and Interpretations**"
   ]
  },
  {
   "cell_type": "markdown",
   "id": "a9db3345",
   "metadata": {},
   "source": [
    "Given the p-value (4.5853437473148514e-10) of our regression hypothesis test, we reject our null hypothesis that there is no relationship between 'Non-General Percent' and 'Electricity Access Percent' ($β_{non-General students}=0$). \n",
    "\n",
    "This tells us that there is some relationship between these variables."
   ]
  },
  {
   "cell_type": "markdown",
   "id": "c3cd440f",
   "metadata": {},
   "source": [
    "Next, we ran a regression between the two variables to explore the exact relationship between the % of non-General caste students and % of schools that have access to electricity. \n",
    "\n",
    "The model estimated the following relationship: **Electricity Access Percent = -0.1875 * Non-General Percent + 0.4025.**\n",
    "\n",
    "This equation indicates that for every 1% increase in the percent of non-General caste students in a district, we would expect the % of schools with access to electricity to decrease by 0.001875. \n",
    "\n",
    "This relationship follows what we would have expected. In districts with a higher percentage of students in non-General castes, the percent of schools with access to electricity decreases. "
   ]
  },
  {
   "cell_type": "markdown",
   "id": "3a5d84b6",
   "metadata": {},
   "source": [
    "**Null hypothesis 2 ($H_{0}$)**: There is no relationship between the percent of non-General caste students and the percent of schools with access to computers in India ($β_{non-General students}=0$)."
   ]
  },
  {
   "cell_type": "markdown",
   "id": "8b9f8cc4",
   "metadata": {},
   "source": [
    "We will start by running a regression and regression hypothesis test between the 'Non-General Percent' feature and 'Computer Access Percent' feature."
   ]
  },
  {
   "cell_type": "code",
   "execution_count": 927,
   "id": "24f190b9",
   "metadata": {
    "scrolled": true
   },
   "outputs": [
    {
     "name": "stdout",
     "output_type": "stream",
     "text": [
      "******************************************************************************************\n",
      "Regression Hypothesis Test: \"Non-General Percent\" and \"Computer Access Percent\"\n",
      "******************************************************************************************\n",
      "\n",
      "t-statistic: 6.592829550912799\n",
      "p-value: 2.4819143086760995e-10\n",
      "p < 0.05: True\n",
      "\n",
      "Therefore, we reject the null hypothesis above.\n",
      "\n",
      "******************************************************************************************\n",
      "Linear Regression Results: \"Non-General Percent\" and \"Computer Access Percent\"\n",
      "******************************************************************************************\n",
      "\n",
      "coef: -0.052416497398123686\n",
      "CI lower bound (0.025): -0.08470304152659557\n",
      "CI upper bound (0.975): -0.020129953269651807\n",
      "intercept: 0.08965816946654548\n",
      "\n",
      "Estimated relationship: Computer Access Percent = -0.0524 * Non-General Percent + 0.0897\n"
     ]
    }
   ],
   "source": [
    "run_regression_hypothesis_test('Non-General Percent', 'Computer Access Percent')"
   ]
  },
  {
   "cell_type": "markdown",
   "id": "2097ce39",
   "metadata": {},
   "source": [
    "**Test Results and Interpretations**"
   ]
  },
  {
   "cell_type": "markdown",
   "id": "3a34f0c0",
   "metadata": {},
   "source": [
    "Firstly, we rejected our null hypothesis that there is no relationship between 'Non-General Percent' and 'Electricity Access Percent' ($β_{non-General students}=0$) based on the p-value of the regression hypothesis test. \n",
    "\n",
    "This tells us that there is some relationship between these variables."
   ]
  },
  {
   "cell_type": "markdown",
   "id": "ec7bb9ca",
   "metadata": {},
   "source": [
    "Then, we ran a regression between the two variables to explore the exact relationship between the % of non-General caste students and % of schools that have access to computers. \n",
    "\n",
    "The model estimated the following relationship: **Computer Access Percent = -0.0524 * Non-General Percent + 0.0897.**\n",
    "\n",
    "This equation indicates that for every 1% increase in the percent of non-General caste students in a district, we would expect the % of schools with access to compters to decrease by 0.000524. \n",
    "\n",
    "This relationship follows what we expected. In districts with a higher percentage of students in non-General castes, the percent of schools with access to computers decreases. "
   ]
  },
  {
   "cell_type": "markdown",
   "id": "02ed2e5a",
   "metadata": {},
   "source": [
    "**Null hypothesis 3 ($H_{0}$)**: There is no relationship between the percent of non-General caste students and the percent of schools with access to playgrounds in India ($β_{non-General students}=0$)."
   ]
  },
  {
   "cell_type": "markdown",
   "id": "84b53972",
   "metadata": {},
   "source": [
    "We will start by running a regression and regression hypothesis test between the 'Non-General Percent' feature and 'Playground Access Percent' feature."
   ]
  },
  {
   "cell_type": "code",
   "execution_count": 928,
   "id": "60948b91",
   "metadata": {},
   "outputs": [
    {
     "name": "stdout",
     "output_type": "stream",
     "text": [
      "******************************************************************************************\n",
      "Regression Hypothesis Test: \"Non-General Percent\" and \"Playground Access Percent\"\n",
      "******************************************************************************************\n",
      "\n",
      "t-statistic: 8.254834393565142\n",
      "p-value: 8.358334967528963e-15\n",
      "p < 0.05: True\n",
      "\n",
      "Therefore, we reject the null hypothesis above.\n",
      "\n",
      "******************************************************************************************\n",
      "Linear Regression Results: \"Non-General Percent\" and \"Playground Access Percent\"\n",
      "******************************************************************************************\n",
      "\n",
      "coef: -0.1321139068566038\n",
      "CI lower bound (0.025): -0.30489117384276565\n",
      "CI upper bound (0.975): 0.04066336012955807\n",
      "intercept: 0.600746740651098\n",
      "\n",
      "Estimated relationship: Playground Access Percent = -0.1321 * Non-General Percent + 0.6007\n"
     ]
    }
   ],
   "source": [
    "run_regression_hypothesis_test('Non-General Percent', 'Playground Access Percent')"
   ]
  },
  {
   "cell_type": "markdown",
   "id": "759ea8a0",
   "metadata": {},
   "source": [
    "**Test Results and Interpretations**"
   ]
  },
  {
   "cell_type": "markdown",
   "id": "1a8fc43f",
   "metadata": {},
   "source": [
    "Firstly, we rejected our null hypothesis that there is no relationship between 'Non-General Percent' and 'Playground Access Percent' ($β_{non-General students}=0$) based on the p-value of the regression hypothesis test. \n",
    "\n",
    "This tells us that there is some relationship between these variables."
   ]
  },
  {
   "cell_type": "markdown",
   "id": "6d1933cd",
   "metadata": {},
   "source": [
    "Then, we ran a regression between the two variables to explore the exact relationship between the % of non-General caste students and % of schools that have access to playgrounds. \n",
    "\n",
    "The model estimated the following relationship: **Playground Access Percent = -0.1321 * Non-General Percent + 0.6007.**\n",
    "\n",
    "This equation indicates that for every 1% increase in the percent of non-General caste students in a district, we would expect the % of schools with access to compters to decrease by 0.001321. \n",
    "\n",
    "This relationship follows what we expected. In districts with a higher percentage of students in non-General castes, the percent of schools with access to playgrounds decreases. "
   ]
  },
  {
   "cell_type": "markdown",
   "id": "381ff3eb",
   "metadata": {},
   "source": [
    "**Null hypothesis 4 ($H_{0}$)**: There is no relationship between the percent of non-General caste students and the percent of schools with access to classrooms in good condition in India ($β_{non-General students}=0$)."
   ]
  },
  {
   "cell_type": "markdown",
   "id": "3d5e81e8",
   "metadata": {},
   "source": [
    "We will start by running a regression and regression hypothesis test between the 'Non-General Percent' feature and 'Classrooms in Good Condition' feature."
   ]
  },
  {
   "cell_type": "code",
   "execution_count": 896,
   "id": "cc5490a6",
   "metadata": {},
   "outputs": [
    {
     "name": "stdout",
     "output_type": "stream",
     "text": [
      "******************************************************************************************\n",
      "Regression Hypothesis Test: \"Non-General Percent\" and \"Classrooms in Good Condition\"\n",
      "******************************************************************************************\n",
      "\n",
      "t-statistic: 19.2358186188129\n",
      "p-value: 1.7194427445536584e-51\n",
      "p < 0.05: True\n",
      "\n",
      "Therefore, we reject the null hypothesis above.\n",
      "\n",
      "******************************************************************************************\n",
      "Linear Regression Results: \"Non-General Percent\" and \"Classrooms in Good Condition\"\n",
      "******************************************************************************************\n",
      "\n",
      "coef: 0.20822577901830172\n",
      "CI lower bound (0.025): 0.13581060315843324\n",
      "CI upper bound (0.975): 0.2806409548781702\n",
      "intercept: 0.586727874382286\n",
      "\n",
      "Estimated relationship: Classrooms in Good Condition = 0.2082 * Non-General Percent + 0.5867\n"
     ]
    }
   ],
   "source": [
    "run_regression_hypothesis_test('Non-General Percent', 'Classrooms in Good Condition')"
   ]
  },
  {
   "cell_type": "markdown",
   "id": "55e058f5",
   "metadata": {},
   "source": [
    "**Test Results and Interpretations**"
   ]
  },
  {
   "cell_type": "markdown",
   "id": "09b9a139",
   "metadata": {},
   "source": [
    "Firstly, we rejected our null hypothesis that there is no relationship between 'Non-General Percent' and 'Classrooms in Good Condition'     \n",
    "($β_{non-General students}=0$) based on the p-value of the regression hypothesis test. \n",
    "\n",
    "This tells us that there is some relationship between these variables."
   ]
  },
  {
   "cell_type": "markdown",
   "id": "71c0a5d4",
   "metadata": {},
   "source": [
    "Then, we ran a regression between the two variables to explore the exact relationship between the % of non-General caste students and % of classrooms in good condition. \n",
    "\n",
    "The model estimated the following relationship: **Classrooms in Good Condition = 0.2082 * Non-General Percent + 0.5867.**\n",
    "\n",
    "This equation indicates that for every 1% increase in the percent of non-General caste students in a district, we would expect the % of classrooms in good condition to increase by 0.002082. \n",
    "\n",
    "This relationship is not what we expected. In districts with a higher percentage of students in non-General castes, the percent of classrooms in good condition increases. We expected that, in districts with a higher percentage of students in non-General castes, schools would have had more classrooms in worst conditions."
   ]
  },
  {
   "cell_type": "markdown",
   "id": "884250bf",
   "metadata": {},
   "source": [
    "**Null hypothesis 5 ($H_{0}$)**: There is no relationship between the percent of non-General caste students and the percent of classrooms with over a 30:1 student-teacher ratio in India ($β_{non-General students}=0$)."
   ]
  },
  {
   "cell_type": "markdown",
   "id": "41da21ca",
   "metadata": {},
   "source": [
    "We will start by running a regression and regression hypothesis test between the 'Non-General Percent' feature and 'STR under 30 Percent' feature."
   ]
  },
  {
   "cell_type": "code",
   "execution_count": 929,
   "id": "fa6a69b8",
   "metadata": {},
   "outputs": [
    {
     "name": "stdout",
     "output_type": "stream",
     "text": [
      "******************************************************************************************\n",
      "Regression Hypothesis Test: \"Non-General Percent\" and \"STR under 30 Percent\"\n",
      "******************************************************************************************\n",
      "\n",
      "t-statistic: 8.448712293071253\n",
      "p-value: 2.3055663234706275e-15\n",
      "p < 0.05: True\n",
      "\n",
      "Therefore, we reject the null hypothesis above.\n",
      "\n",
      "******************************************************************************************\n",
      "Linear Regression Results: \"Non-General Percent\" and \"STR under 30 Percent\"\n",
      "******************************************************************************************\n",
      "\n",
      "coef: -0.3363191650857176\n",
      "CI lower bound (0.025): -0.5565030089803977\n",
      "CI upper bound (0.975): -0.11613532119103748\n",
      "intercept: 0.7835603086711589\n",
      "\n",
      "Estimated relationship: STR under 30 Percent = -0.3363 * Non-General Percent + 0.7836\n"
     ]
    }
   ],
   "source": [
    "run_regression_hypothesis_test('Non-General Percent', 'STR under 30 Percent')"
   ]
  },
  {
   "cell_type": "markdown",
   "id": "15e49316",
   "metadata": {},
   "source": [
    "**Test Results and Interpretations**"
   ]
  },
  {
   "cell_type": "markdown",
   "id": "385df477",
   "metadata": {},
   "source": [
    "Firstly, we rejected our null hypothesis that there is no relationship between 'Non-General Percent' and 'STR under 30 Percent' ($β_{non-General students}=0$) based on the p-value of the regression hypothesis test. \n",
    "\n",
    "This tells us that there is some relationship between these variables."
   ]
  },
  {
   "cell_type": "markdown",
   "id": "140fb4c8",
   "metadata": {},
   "source": [
    "Then, we ran a regression between the two variables to explore the exact relationship between the % of non-General caste students and % of classrooms with under 30:1 student-teacher ratio. \n",
    "\n",
    "The model estimated the following relationship: **STR under 30 Percent = -0.3363 * Non-General Percent + 0.7836.**\n",
    "\n",
    "This equation indicates that for every 1% increase in the percent of non-General caste students in a district, we  expect the % of classrooms with under 30:1 student-teacher ratio to decreases by 0.003363. \n",
    "\n",
    "This relationship is what we expect. In districts with a higher percentage of students in non-General castes, the percent of classrooms with over a 30:1 student-teacher ratio increases."
   ]
  },
  {
   "cell_type": "markdown",
   "id": "66286638",
   "metadata": {},
   "source": [
    "**Null hypothesis 6 ($H_{0}$)**: There is no relationship between the percent of non-General caste students and the percent of qualified teachers in India ($β_{non-General students}=0$)."
   ]
  },
  {
   "cell_type": "markdown",
   "id": "86add46c",
   "metadata": {},
   "source": [
    "We will start by running a regression and regression hypothesis test between the 'Non-General Percent' feature and 'Qualified Teachers Percent' feature."
   ]
  },
  {
   "cell_type": "code",
   "execution_count": 902,
   "id": "075e563e",
   "metadata": {},
   "outputs": [
    {
     "name": "stdout",
     "output_type": "stream",
     "text": [
      "******************************************************************************************\n",
      "Regression Hypothesis Test: \"Non-General Percent\" and \"Qualified Teachers Percent\"\n",
      "******************************************************************************************\n",
      "\n",
      "t-statistic: 7.805729179092149\n",
      "p-value: 1.5480506202699953e-13\n",
      "p < 0.05: True\n",
      "\n",
      "Therefore, we reject the null hypothesis above.\n",
      "\n",
      "******************************************************************************************\n",
      "Linear Regression Results: \"Non-General Percent\" and \"Qualified Teachers Percent\"\n",
      "******************************************************************************************\n",
      "\n",
      "coef: 0.10541801969675452\n",
      "CI lower bound (0.025): -0.05986915521133945\n",
      "CI upper bound (0.975): 0.2707051946048485\n",
      "intercept: 0.5434368626087551\n",
      "\n",
      "Estimated relationship: Qualified Teachers Percent = 0.1054 * Non-General Percent + 0.5434\n"
     ]
    }
   ],
   "source": [
    "run_regression_hypothesis_test('Non-General Percent', 'Qualified Teachers Percent')"
   ]
  },
  {
   "cell_type": "markdown",
   "id": "c667a2b0",
   "metadata": {},
   "source": [
    "**Test Results and Interpretations**"
   ]
  },
  {
   "cell_type": "markdown",
   "id": "c70f3d81",
   "metadata": {},
   "source": [
    "Firstly, we rejected our null hypothesis that there is no relationship between 'Non-General Percent' and 'Qualified Teachers Percent' ($β_{non-General students}=0$) based on the p-value of the regression hypothesis test. \n",
    "\n",
    "This tells us that there is some relationship between these variables."
   ]
  },
  {
   "cell_type": "markdown",
   "id": "c05113e1",
   "metadata": {},
   "source": [
    "Then, we ran a regression between the two variables to explore the exact relationship between the % of non-General caste students and % of qualified teachers. \n",
    "\n",
    "The model estimated the following relationship: **Qualified Teachers Percent = 0.1054 * Non-General Percent + 0.5434.**\n",
    "\n",
    "This equation indicates that for every 1% increase in the percent of non-General caste students in a district, we  expect the % of classrooms in good condition to increase by 0.001054. \n",
    "\n",
    "This relationship is not what we expected. In districts with a higher percentage of students in non-General castes, the percent of qualified teachers increases. We expected that, in districts with a higher percentage of students in non-General castes, schools would have a smaller percentage of qualified teachers."
   ]
  },
  {
   "cell_type": "markdown",
   "id": "d70bf1b9",
   "metadata": {},
   "source": [
    "**Hypothesis is supported**"
   ]
  },
  {
   "cell_type": "markdown",
   "id": "bd8e5e30",
   "metadata": {},
   "source": [
    "Given the tests and linear regression model's outputs above, it appears the % of non-General caste students does predict access to educational resources, % of qualified teachers, and % of classrooms with under 30:1 student-teacher ratio.\n",
    "\n",
    "That being said, the exact relationships were not always as expected. An increase in the % of non-General caste students led to:\n",
    "- a decrease in access to electricity\n",
    "- a decrease in access to computers\n",
    "- a decrease in access to playgrounds\n",
    "- an increase in access to classrooms in good condition\n",
    "- an decrease in classrooms with under 30:1 STR\n",
    "- an increase in qualified teachers\n",
    "\n",
    "\n",
    "This means the membership in one of India's marginalized caste groups predicts access to educational resources, student-teacher ratio, and qualified teachers. In other words, this means that **membership in one of India's marginalized caste groups predicts quality of education.**"
   ]
  },
  {
   "cell_type": "markdown",
   "id": "982b28f9",
   "metadata": {},
   "source": [
    "### Hypothesis 3"
   ]
  },
  {
   "cell_type": "markdown",
   "id": "c44eb87b",
   "metadata": {},
   "source": [
    "**Hypothesis**: Quality of education in India (determined by access to good education resources, student-teacher ratio, and qualified teachers) predicts mortality rate."
   ]
  },
  {
   "cell_type": "markdown",
   "id": "a8a7a273",
   "metadata": {},
   "source": [
    "**Null hypothesis ($H_{0}$)**: model's fit is same compared to an intercept-only model.                 \n",
    "($β_{computerAccess}=β_{electricityAccess}=β_{playgroundAccess}=β_{goodConditionClassroomAccess}=β_{qualifiedTeachers}=β_{STRUnder30}=0$)."
   ]
  },
  {
   "cell_type": "markdown",
   "id": "b66d4af6",
   "metadata": {},
   "source": [
    "We will assess the combined relationship between the 'Electricity Access Percent', 'Computer Access Percent',  'Playground Access Percent', 'Classrooms Good Condition', 'STR under 30 Percent', and 'Qualified Teachers Percent' features on the 'CDR' feature."
   ]
  },
  {
   "cell_type": "code",
   "execution_count": 930,
   "id": "4e00c389",
   "metadata": {},
   "outputs": [
    {
     "name": "stdout",
     "output_type": "stream",
     "text": [
      "******************************************************************************************\n",
      "Regression Hypothesis Test: \"['Electricity Access Percent', 'Computer Access Percent', 'Playground Access Percent', 'Classrooms in Good Condition', 'STR under 30 Percent', 'Qualified Teachers Percent']\" and \"CDR\"\n",
      "******************************************************************************************\n",
      "\n",
      "\n",
      "f-statistic: 6.996444976505501\n",
      "p-value: 6.841101485562257e-07\n",
      "p < 0.05: True\n",
      "\n",
      "Therefore, we reject the f-test null hypothesis.\n",
      "\n",
      "******************************************************************************************\n",
      "Linear Regression Results: \"['Electricity Access Percent', 'Computer Access Percent', 'Playground Access Percent', 'Classrooms in Good Condition', 'STR under 30 Percent', 'Qualified Teachers Percent']\" and \"CDR\"\n",
      "******************************************************************************************\n",
      "\n",
      "                            OLS Regression Results                            \n",
      "==============================================================================\n",
      "Dep. Variable:                    CDR   R-squared:                       0.144\n",
      "Model:                            OLS   Adj. R-squared:                  0.124\n",
      "Method:                 Least Squares   F-statistic:                     6.996\n",
      "Date:                Mon, 12 Dec 2022   Prob (F-statistic):           6.84e-07\n",
      "Time:                        16:58:07   Log-Likelihood:                -445.25\n",
      "No. Observations:                 256   AIC:                             904.5\n",
      "Df Residuals:                     249   BIC:                             929.3\n",
      "Df Model:                           6                                         \n",
      "Covariance Type:            nonrobust                                         \n",
      "================================================================================================\n",
      "                                   coef    std err          t      P>|t|      [0.025      0.975]\n",
      "------------------------------------------------------------------------------------------------\n",
      "const                            8.1890      0.849      9.651      0.000       6.518       9.860\n",
      "Electricity Access Percent      -0.1545      0.539     -0.287      0.775      -1.216       0.907\n",
      "Computer Access Percent         -8.8513      2.456     -3.603      0.000     -13.689      -4.013\n",
      "Playground Access Percent        1.2558      0.422      2.974      0.003       0.424       2.087\n",
      "Classrooms in Good Condition    -2.5757      1.121     -2.297      0.022      -4.784      -0.368\n",
      "STR under 30 Percent            -0.1521      0.348     -0.437      0.663      -0.838       0.534\n",
      "Qualified Teachers Percent       1.8155      0.533      3.404      0.001       0.765       2.866\n",
      "==============================================================================\n",
      "Omnibus:                        1.619   Durbin-Watson:                   1.297\n",
      "Prob(Omnibus):                  0.445   Jarque-Bera (JB):                1.523\n",
      "Skew:                           0.189   Prob(JB):                        0.467\n",
      "Kurtosis:                       2.994   Cond. No.                         45.5\n",
      "==============================================================================\n",
      "\n",
      "Notes:\n",
      "[1] Standard Errors assume that the covariance matrix of the errors is correctly specified.\n"
     ]
    }
   ],
   "source": [
    "columns = ['Electricity Access Percent', 'Computer Access Percent', 'Playground Access Percent', \n",
    "           'Classrooms in Good Condition','STR under 30 Percent', 'Qualified Teachers Percent']\n",
    "run_regression_hypothesis_test(columns, 'CDR')"
   ]
  },
  {
   "cell_type": "markdown",
   "id": "fc79863d",
   "metadata": {},
   "source": [
    "**Test Results and Interpretations**"
   ]
  },
  {
   "cell_type": "markdown",
   "id": "21002a35",
   "metadata": {},
   "source": [
    "Firstly, because we're doing a multi-input regression, we can use the f-test results to determine whether or not to reject our null hypothesis. Our test first found the f-statistic which was about 7.0. Based on that, the p-value was 6.841101485562257e-07. Comparing the p-value to our significance level of 0.05, we found that the p-value was indeed less that the significance level. This meant that we could reject our initial null hypothesis ($H_{0}$):                   $β_{computerAccess}=β_{electricityAccess}=β_{playgroundAccess}=β_{goodConditionClassroomAccess}=β_{qualifiedTeachers}=β_{STRUnder30}=0$.\n",
    "\n",
    "However, while our f-test helped us to reject our null hypothesis that all slopes are equal to 0, it does not indicate which slope is not 0. However, we can look at the estimated multivariate linear regression model to quantify the relationship between the \"quality of education\" variables and mortality rate."
   ]
  },
  {
   "cell_type": "markdown",
   "id": "61d7aaba",
   "metadata": {},
   "source": [
    "According to the model results above, we see that the expressed relationship is: **CDR = 1.8155 * Qualified Teachers Percent - 0.1521 * STR under 30 Percent - 2.5757 * Classrooms in Good Condition + 1.2558 * Playground Access Percent - 8.8513 * Computer Access Percent - 0.1545 * Electricity Access Percent + 8.1890**. "
   ]
  },
  {
   "cell_type": "markdown",
   "id": "b33ef8c6",
   "metadata": {},
   "source": [
    "This means:\n",
    "- an increase in qualified teachers by 1% increases the mortality rate by 0.018155\n",
    "- an increase in classrooms under 30:1 STR by 1% decreases the mortality rate by 0.001521\n",
    "- an increase in classsrooms in good condition by 1% decreases the mortality rate by 0.025757\n",
    "- an increase in playground access by 1% increases the mortality rate by 0.012558\n",
    "- an increase in electricity access by 1% increases mortality rate by 0.012558\n",
    "- an increase in computer access by 1% decreases mortality rate by 0.088513"
   ]
  },
  {
   "cell_type": "markdown",
   "id": "e6329d32",
   "metadata": {},
   "source": [
    "What's interesting is the pretty large slope for 'Computer Access Percent' which is more than double the second-highest slope ('Classrooms in Good Condition') in the multi-variate regression. This implies that a 1% increase in schools with computer access will reduce mortality rate the most out of any other variable in the regression."
   ]
  },
  {
   "cell_type": "markdown",
   "id": "ca2452f2",
   "metadata": {},
   "source": [
    "**Hypothesis is supported**"
   ]
  },
  {
   "cell_type": "markdown",
   "id": "00f0f1a6",
   "metadata": {},
   "source": [
    "Given the tests and linear regression model's outputs above, we can be confident that the \"quality of education\" variables predict mortality rate. Specifically, the estimated relationship is: CDR = 1.8155 * Qualified Teachers Percent - 0.1521 * STR under 30 Percent - 2.5757 * Classrooms in Good Condition + 1.2558 * Playground Access Percent - 8.8513 * Computer Access Percent - 0.1545 * Electricity Access Percent + 8.1890.\n",
    "\n",
    "This means the quality of education in India (determined by access to good education resources, student-teacher ratio, and qualified teachers) predicts mortality rate. In other words, **quality of education in India predicts quality of life.**"
   ]
  },
  {
   "cell_type": "markdown",
   "id": "4bfec5fb",
   "metadata": {},
   "source": [
    "Now that we've done our analysis, it's time to outline our findings."
   ]
  },
  {
   "cell_type": "markdown",
   "id": "404caa2f",
   "metadata": {},
   "source": [
    "## 8. Findings"
   ]
  },
  {
   "cell_type": "markdown",
   "id": "fed8d7ce",
   "metadata": {},
   "source": [
    "### Research and Analysis Findings"
   ]
  },
  {
   "cell_type": "markdown",
   "id": "e0cee2da",
   "metadata": {},
   "source": [
    "Throughout this analysis, we've found some really interesting things about India's social structure, its mortality rate situation, and what primary education in India looks like."
   ]
  },
  {
   "cell_type": "markdown",
   "id": "2af92792",
   "metadata": {},
   "source": [
    "We came across a few interesting statistics in our Exploratory Data Analysis section:\n",
    "- on average, only 4% of schools in each district represented in this dataset have computer access\n",
    "- on average, 52% of schools in a district have over a 30:1 student-teacher ratio\n",
    "- on average, 63% of teachers in a district are qualified (has a Bachelor's degree or above)\n",
    "- the average school in this dataset has 81% non-General caste students \n",
    "- the average morality rate of all districts is 7.47 per 1000 people"
   ]
  },
  {
   "cell_type": "markdown",
   "id": "f8d25bde",
   "metadata": {},
   "source": [
    "Earlier on in the discussion, we outlined a few hypotheses that we were excited about:\n",
    "1. Membership in one of India's marginalized caste groups predicts mortality rate.\n",
    "2. Membership in one of India's marginalized caste groups predicts access to educational resources, qualified teachers, and student-teacher ratio.\n",
    "3. Quality of education in India (determined by access to good education resources, student-teacher ratio, and qualified teachers) predicts mortality rate."
   ]
  },
  {
   "cell_type": "markdown",
   "id": "acc19b89",
   "metadata": {},
   "source": [
    "In our Statistical Analysis section, we found that all hypotheses were supported by the data. We found that:\n",
    "- Membership of a marginalized caste group predicts quality of education.\n",
    "- Membership of a marginalized caste group predicts quality of life.\n",
    "- Quality of education in India predicts quality of life."
   ]
  },
  {
   "cell_type": "markdown",
   "id": "dbd83b30",
   "metadata": {},
   "source": [
    "While we are excited by these findings, we are even more excited for what these findings suggest about how to improve India's quality of education and quality of life.\n",
    "\n",
    "India's government has been slowly chipping away at reducing the lasting influence of the caste system on India's society. In recent years, we've seen India allocate a significant aount of money and energy in addressing these social issues.  \n",
    "\n",
    "In our analysis, we found that the 2 variables that decrease mortality rate (increasing quality of life) the most were: access to computers and access to electricity. While computers had the most impact on mortality rate by far, computer access requires access to electricity. \n",
    "\n",
    "Based on this, we would like to these findings to present an initiative we believe would have the biggest impact on India's quality of education and quality of life: a Computer and Electricity Access Initiative."
   ]
  },
  {
   "cell_type": "markdown",
   "id": "88a04031",
   "metadata": {},
   "source": [
    "### Computer and Electricity Access Initiative"
   ]
  },
  {
   "cell_type": "markdown",
   "id": "4f5a3061",
   "metadata": {},
   "source": [
    "**Proposal**"
   ]
  },
  {
   "cell_type": "markdown",
   "id": "5fe530fc",
   "metadata": {},
   "source": [
    "We propose an initiative where the Indian national government works with regional and local governments to increase computer and electricity access in primary schools in Central India. \n",
    "\n",
    "Note: Because our data was limited to mostly districts in Central India, we can only speak to the positive impacts of this initiative in that region. However, we expect a similar positive outcome would be found if this initiative extended beyond Central India."
   ]
  },
  {
   "cell_type": "markdown",
   "id": "7189a16f",
   "metadata": {},
   "source": [
    "**Rationale**"
   ]
  },
  {
   "cell_type": "markdown",
   "id": "8d476a5f",
   "metadata": {},
   "source": [
    "As we saw in our exploratory analysis, on average, only 4% of primary schools in each district in Central India have access to computers. On top of that, we also found that a 1% increase in access to computer decreases the mortality rate by 0.088513 (keeping all other inputs in our multi-variate regression model the same)."
   ]
  },
  {
   "cell_type": "markdown",
   "id": "a2dd8276",
   "metadata": {},
   "source": [
    "There is an important concept called Value of Statistical Life (VSL) that describes the additional cost that someone (the Indian government in our case) would be willing to bear for improvements in safety and save one additional life. "
   ]
  },
  {
   "cell_type": "code",
   "execution_count": 926,
   "id": "c1b4b5bd",
   "metadata": {},
   "outputs": [
    {
     "name": "stdout",
     "output_type": "stream",
     "text": [
      "To save 1 additional life, the average computer access would have to increase by 11.3%\n"
     ]
    }
   ],
   "source": [
    "value = round(1/0.088513, 2)\n",
    "print('To save 1 additional life, the average computer access would have to increase by {}%'.format(value))"
   ]
  },
  {
   "cell_type": "markdown",
   "id": "4ceb436e",
   "metadata": {},
   "source": [
    "Since the current average is around 4%, the government would have to target an increase of computer access so that on average, 15.3% of primary schools in each district in Central India has access to computers."
   ]
  },
  {
   "cell_type": "markdown",
   "id": "42ad3442",
   "metadata": {},
   "source": [
    "In terms of cost, as of 2018, a [study](https://ideas.repec.org/p/sch/wpaper/407.html) estimated that India's VSL was INR \\\\$44.69 million or USD \\\\$0.54 million."
   ]
  },
  {
   "cell_type": "markdown",
   "id": "e79063d0",
   "metadata": {},
   "source": [
    "**Therefore, India should aim to increase Central India's computer access in primary schools by 11.3% while maintaining a budget of USD \\\\$0.54 million per 1000 students.**"
   ]
  },
  {
   "cell_type": "markdown",
   "id": "41af0403",
   "metadata": {},
   "source": [
    "### Conclusion"
   ]
  },
  {
   "cell_type": "markdown",
   "id": "c9534ece",
   "metadata": {},
   "source": [
    "While our research confirmed a harsh reality that castes still affect quality of life and quality of education, we admire India's efforts to correct historical wrongdoing and invest in boosting the quality of life for all citizens regardless of their caste status. \n",
    "\n",
    "We hope our findings and Computer and Electricity Initiative proposal can be useful to the Indian government as they determine the best ways to improve the quality of life for all."
   ]
  }
 ],
 "metadata": {
  "kernelspec": {
   "display_name": "Python 3 (ipykernel)",
   "language": "python",
   "name": "python3"
  },
  "language_info": {
   "codemirror_mode": {
    "name": "ipython",
    "version": 3
   },
   "file_extension": ".py",
   "mimetype": "text/x-python",
   "name": "python",
   "nbconvert_exporter": "python",
   "pygments_lexer": "ipython3",
   "version": "3.9.7"
  }
 },
 "nbformat": 4,
 "nbformat_minor": 5
}
